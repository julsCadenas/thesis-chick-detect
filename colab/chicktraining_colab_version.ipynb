{
  "nbformat": 4,
  "nbformat_minor": 0,
  "metadata": {
    "colab": {
      "provenance": [],
      "mount_file_id": "1n-VtTwHW47BakAr3tCScLgZyZ0xEx2ez",
      "authorship_tag": "ABX9TyMgKznzKWyRMaMbyvDUQulM",
      "include_colab_link": true
    },
    "kernelspec": {
      "name": "python3",
      "display_name": "Python 3"
    },
    "language_info": {
      "name": "python"
    }
  },
  "cells": [
    {
      "cell_type": "markdown",
      "metadata": {
        "id": "view-in-github",
        "colab_type": "text"
      },
      "source": [
        "<a href=\"https://colab.research.google.com/github/julsCadenas/thesis-chick-detect/blob/main/chicktraining_colab_version.ipynb\" target=\"_parent\"><img src=\"https://colab.research.google.com/assets/colab-badge.svg\" alt=\"Open In Colab\"/></a>"
      ]
    },
    {
      "cell_type": "markdown",
      "source": [
        "Install Ultralytics and opencv"
      ],
      "metadata": {
        "id": "png_eS_q3JX4"
      }
    },
    {
      "cell_type": "code",
      "execution_count": null,
      "metadata": {
        "collapsed": true,
        "id": "79nFQuJe2-2j"
      },
      "outputs": [],
      "source": [
        "!pip install ultralytics"
      ]
    },
    {
      "cell_type": "code",
      "source": [
        "!pip install opencv-python"
      ],
      "metadata": {
        "id": "lgLKRLuXTLZ6",
        "collapsed": true
      },
      "execution_count": null,
      "outputs": []
    },
    {
      "cell_type": "markdown",
      "source": [
        "import statements\n",
        "mount your drive and add the directory to your dataset"
      ],
      "metadata": {
        "id": "1TzhFJQx3TeT"
      }
    },
    {
      "cell_type": "code",
      "source": [
        "from ultralytics import YOLO\n",
        "import os\n",
        "import cv2\n",
        "from google.colab import drive\n",
        "\n",
        "drive.mount('/content/gdrive')\n",
        "ROOT_DIR = '/content/gdrive/My Drive/manok/'"
      ],
      "metadata": {
        "id": "m7FAwNMq3TF0"
      },
      "execution_count": null,
      "outputs": []
    },
    {
      "cell_type": "markdown",
      "source": [
        "load a yolov8 pretrained model"
      ],
      "metadata": {
        "id": "L689j7JC3XNM"
      }
    },
    {
      "cell_type": "code",
      "source": [
        "model = YOLO(os.path.join(ROOT_DIR, \"last.pt\"))"
      ],
      "metadata": {
        "id": "QvRKALfa3Y4t"
      },
      "execution_count": null,
      "outputs": []
    },
    {
      "cell_type": "markdown",
      "source": [
        "train the model"
      ],
      "metadata": {
        "id": "0xiebCAG5_nR"
      }
    },
    {
      "cell_type": "code",
      "source": [
        "results = model.train(data=os.path.join(ROOT_DIR, \"dataset.yaml\"), epochs=32)"
      ],
      "metadata": {
        "id": "jMYH9kDQ5_ZV"
      },
      "execution_count": null,
      "outputs": []
    },
    {
      "cell_type": "code",
      "source": [
        "!scp -r /content/runs '/content/gdrive/My Drive/manok'"
      ],
      "metadata": {
        "id": "s9pNlUMC9ACC"
      },
      "execution_count": null,
      "outputs": []
    },
    {
      "cell_type": "markdown",
      "source": [
        "test the model using a video"
      ],
      "metadata": {
        "id": "TdYd2lALSJ4l"
      }
    },
    {
      "cell_type": "code",
      "source": [
        "# Define paths\n",
        "VIDEOS_DIR = '/content/gdrive/My Drive/manok/dataset2'\n",
        "video_path = os.path.join(VIDEOS_DIR, 'chickentry.mp4')\n",
        "video_path_out = os.path.join(VIDEOS_DIR, 'chickentry_out.mp4')\n",
        "\n",
        "# Load video\n",
        "cap = cv2.VideoCapture(video_path)\n",
        "ret, frame = cap.read()\n",
        "\n",
        "if ret:\n",
        "    H, W, _ = frame.shape\n",
        "    out = cv2.VideoWriter(video_path_out, cv2.VideoWriter_fourcc(*'MP4V'), int(cap.get(cv2.CAP_PROP_FPS)), (W, H))\n",
        "\n",
        "    model_path = '/content/gdrive/My Drive/manok/runs/detect/train6/weights/last.pt'\n",
        "    model = YOLO(model_path)\n",
        "\n",
        "    threshold = 0.5\n",
        "\n",
        "    while ret:\n",
        "        results = model(frame)[0]\n",
        "\n",
        "        for result in results.boxes.data.tolist():\n",
        "            x1, y1, x2, y2, score, class_id = result\n",
        "\n",
        "            if score > threshold:\n",
        "                cv2.rectangle(frame, (int(x1), int(y1)), (int(x2), int(y2)), (0, 255, 0), 4)\n",
        "                cv2.putText(frame, results.names[int(class_id)].upper(), (int(x1), int(y1 - 10)),\n",
        "                            cv2.FONT_HERSHEY_SIMPLEX, 1.3, (0, 255, 0), 3, cv2.LINE_AA)\n",
        "\n",
        "        out.write(frame)\n",
        "        ret, frame = cap.read()\n",
        "\n",
        "    cap.release()\n",
        "    out.release()\n",
        "    cv2.destroyAllWindows()\n",
        "else:\n",
        "    print(\"Failed to read the video file.\")\n"
      ],
      "metadata": {
        "id": "P_Z-QJcsSNcX",
        "collapsed": true
      },
      "execution_count": null,
      "outputs": []
    }
  ]
}