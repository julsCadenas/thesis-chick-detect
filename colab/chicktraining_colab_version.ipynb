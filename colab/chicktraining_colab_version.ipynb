{
  "nbformat": 4,
  "nbformat_minor": 0,
  "metadata": {
    "colab": {
      "provenance": [],
      "mount_file_id": "1n-VtTwHW47BakAr3tCScLgZyZ0xEx2ez",
      "authorship_tag": "ABX9TyMgKznzKWyRMaMbyvDUQulM",
      "include_colab_link": true
    },
    "kernelspec": {
      "name": "python3",
      "display_name": "Python 3"
    },
    "language_info": {
      "name": "python"
    }
  },
  "cells": [
    {
      "cell_type": "markdown",
      "metadata": {
        "id": "view-in-github",
        "colab_type": "text"
      },
      "source": [
        "<a href=\"https://colab.research.google.com/github/julsCadenas/thesis-chick-detect/blob/main/chicktraining_colab_version.ipynb\" target=\"_parent\"><img src=\"https://colab.research.google.com/assets/colab-badge.svg\" alt=\"Open In Colab\"/></a>"
      ]
    },
    {
      "cell_type": "markdown",
      "source": [
        "Install Ultralytics and opencv"
      ],
      "metadata": {
        "id": "png_eS_q3JX4"
      }
    },
    {
      "cell_type": "code",
      "execution_count": null,
      "metadata": {
        "collapsed": true,
        "id": "79nFQuJe2-2j"
      },
      "outputs": [],
      "source": [
        "!pip install ultralytics"
      ]
    },
    {
      "cell_type": "code",
      "source": [
        "!pip install opencv-python"
      ],
      "metadata": {
        "id": "lgLKRLuXTLZ6",
        "collapsed": true
      },
      "execution_count": null,
      "outputs": []
    },
    {
      "cell_type": "markdown",
      "source": [
        "import statements\n",
        "mount your drive and add the directory to your dataset"
      ],
      "metadata": {
        "id": "1TzhFJQx3TeT"
      }
    },
    {
      "cell_type": "code",
      "source": [
        "from ultralytics import YOLO\n",
        "import os\n",
        "import cv2\n",
        "from google.colab import drive\n",
        "\n",
        "drive.mount('/content/gdrive')\n",
        "ROOT_DIR = '/content/gdrive/My Drive/manok/'"
      ],
      "metadata": {
        "id": "m7FAwNMq3TF0",
        "colab": {
          "base_uri": "https://localhost:8080/"
        },
        "outputId": "6cecb445-25dd-41de-b264-4d752c2cb9ed"
      },
      "execution_count": null,
      "outputs": [
        {
          "output_type": "stream",
          "name": "stdout",
          "text": [
            "Mounted at /content/gdrive\n"
          ]
        }
      ]
    },
    {
      "cell_type": "markdown",
      "source": [
        "load a yolov8 pretrained model"
      ],
      "metadata": {
        "id": "L689j7JC3XNM"
      }
    },
    {
      "cell_type": "code",
      "source": [
        "model = YOLO(os.path.join(ROOT_DIR, \"last.pt\"))"
      ],
      "metadata": {
        "id": "QvRKALfa3Y4t"
      },
      "execution_count": null,
      "outputs": []
    },
    {
      "cell_type": "markdown",
      "source": [
        "train the model"
      ],
      "metadata": {
        "id": "0xiebCAG5_nR"
      }
    },
    {
      "cell_type": "code",
      "source": [
        "results = model.train(data=os.path.join(ROOT_DIR, \"dataset.yaml\"), epochs=32)"
      ],
      "metadata": {
        "id": "jMYH9kDQ5_ZV",
        "colab": {
          "base_uri": "https://localhost:8080/"
        },
        "outputId": "0b600112-e106-4e67-fb47-b9216431562c"
      },
      "execution_count": null,
      "outputs": [
        {
          "metadata": {
            "tags": null
          },
          "name": "stdout",
          "output_type": "stream",
          "text": [
            "Ultralytics YOLOv8.2.92 🚀 Python-3.10.12 torch-2.4.0+cu121 CPU (Intel Xeon 2.20GHz)\n",
            "\u001b[34m\u001b[1mengine/trainer: \u001b[0mtask=detect, mode=train, model=/content/gdrive/My Drive/manok/last.pt, data=/content/gdrive/My Drive/manok/dataset.yaml, epochs=32, time=None, patience=100, batch=16, imgsz=640, save=True, save_period=-1, cache=False, device=None, workers=8, project=None, name=train, exist_ok=False, pretrained=True, optimizer=auto, verbose=True, seed=0, deterministic=True, single_cls=False, rect=False, cos_lr=False, close_mosaic=10, resume=False, amp=True, fraction=1.0, profile=False, freeze=None, multi_scale=False, overlap_mask=True, mask_ratio=4, dropout=0.0, val=True, split=val, save_json=False, save_hybrid=False, conf=None, iou=0.7, max_det=300, half=False, dnn=False, plots=True, source=None, vid_stride=1, stream_buffer=False, visualize=False, augment=False, agnostic_nms=False, classes=None, retina_masks=False, embed=None, show=False, save_frames=False, save_txt=False, save_conf=False, save_crop=False, show_labels=True, show_conf=True, show_boxes=True, line_width=None, format=torchscript, keras=False, optimize=False, int8=False, dynamic=False, simplify=False, opset=None, workspace=4, nms=False, lr0=0.01, lrf=0.01, momentum=0.937, weight_decay=0.0005, warmup_epochs=3.0, warmup_momentum=0.8, warmup_bias_lr=0.1, box=7.5, cls=0.5, dfl=1.5, pose=12.0, kobj=1.0, label_smoothing=0.0, nbs=64, hsv_h=0.015, hsv_s=0.7, hsv_v=0.4, degrees=0.0, translate=0.1, scale=0.5, shear=0.0, perspective=0.0, flipud=0.0, fliplr=0.5, bgr=0.0, mosaic=1.0, mixup=0.0, copy_paste=0.0, auto_augment=randaugment, erasing=0.4, crop_fraction=1.0, cfg=None, tracker=botsort.yaml, save_dir=runs/detect/train\n",
            "Downloading https://ultralytics.com/assets/Arial.ttf to '/root/.config/Ultralytics/Arial.ttf'...\n"
          ]
        },
        {
          "metadata": {
            "tags": null
          },
          "name": "stderr",
          "output_type": "stream",
          "text": [
            "100%|██████████| 755k/755k [00:00<00:00, 14.4MB/s]\n"
          ]
        },
        {
          "metadata": {
            "tags": null
          },
          "name": "stdout",
          "output_type": "stream",
          "text": [
            "\n",
            "                   from  n    params  module                                       arguments                     \n",
            "  0                  -1  1       464  ultralytics.nn.modules.conv.Conv             [3, 16, 3, 2]                 \n",
            "  1                  -1  1      4672  ultralytics.nn.modules.conv.Conv             [16, 32, 3, 2]                \n",
            "  2                  -1  1      7360  ultralytics.nn.modules.block.C2f             [32, 32, 1, True]             \n",
            "  3                  -1  1     18560  ultralytics.nn.modules.conv.Conv             [32, 64, 3, 2]                \n",
            "  4                  -1  2     49664  ultralytics.nn.modules.block.C2f             [64, 64, 2, True]             \n",
            "  5                  -1  1     73984  ultralytics.nn.modules.conv.Conv             [64, 128, 3, 2]               \n",
            "  6                  -1  2    197632  ultralytics.nn.modules.block.C2f             [128, 128, 2, True]           \n",
            "  7                  -1  1    295424  ultralytics.nn.modules.conv.Conv             [128, 256, 3, 2]              \n",
            "  8                  -1  1    460288  ultralytics.nn.modules.block.C2f             [256, 256, 1, True]           \n",
            "  9                  -1  1    164608  ultralytics.nn.modules.block.SPPF            [256, 256, 5]                 \n",
            " 10                  -1  1         0  torch.nn.modules.upsampling.Upsample         [None, 2, 'nearest']          \n",
            " 11             [-1, 6]  1         0  ultralytics.nn.modules.conv.Concat           [1]                           \n",
            " 12                  -1  1    148224  ultralytics.nn.modules.block.C2f             [384, 128, 1]                 \n",
            " 13                  -1  1         0  torch.nn.modules.upsampling.Upsample         [None, 2, 'nearest']          \n",
            " 14             [-1, 4]  1         0  ultralytics.nn.modules.conv.Concat           [1]                           \n",
            " 15                  -1  1     37248  ultralytics.nn.modules.block.C2f             [192, 64, 1]                  \n",
            " 16                  -1  1     36992  ultralytics.nn.modules.conv.Conv             [64, 64, 3, 2]                \n",
            " 17            [-1, 12]  1         0  ultralytics.nn.modules.conv.Concat           [1]                           \n",
            " 18                  -1  1    123648  ultralytics.nn.modules.block.C2f             [192, 128, 1]                 \n",
            " 19                  -1  1    147712  ultralytics.nn.modules.conv.Conv             [128, 128, 3, 2]              \n",
            " 20             [-1, 9]  1         0  ultralytics.nn.modules.conv.Concat           [1]                           \n",
            " 21                  -1  1    493056  ultralytics.nn.modules.block.C2f             [384, 256, 1]                 \n",
            " 22        [15, 18, 21]  1    751507  ultralytics.nn.modules.head.Detect           [1, [64, 128, 256]]           \n",
            "Model summary: 225 layers, 3,011,043 parameters, 3,011,027 gradients, 8.2 GFLOPs\n",
            "\n",
            "Transferred 355/355 items from pretrained weights\n",
            "\u001b[34m\u001b[1mTensorBoard: \u001b[0mStart with 'tensorboard --logdir runs/detect/train', view at http://localhost:6006/\n",
            "Freezing layer 'model.22.dfl.conv.weight'\n"
          ]
        },
        {
          "metadata": {
            "tags": null
          },
          "name": "stderr",
          "output_type": "stream",
          "text": [
            "\u001b[34m\u001b[1mtrain: \u001b[0mScanning /content/gdrive/My Drive/manok/bigdata/labels/train.cache... 1400 images, 51 backgrounds, 0 corrupt: 100%|██████████| 1400/1400 [00:00<?, ?it/s]"
          ]
        },
        {
          "metadata": {
            "tags": null
          },
          "name": "stdout",
          "output_type": "stream",
          "text": [
            "WARNING ⚠️ Box and segment counts should be equal, but got len(segments) = 1, len(boxes) = 2366. To resolve this only boxes will be used and all segments will be removed. To avoid this please supply either a detect or segment dataset, not a detect-segment mixed dataset.\n"
          ]
        },
        {
          "metadata": {
            "tags": null
          },
          "name": "stderr",
          "output_type": "stream",
          "text": [
            "\n"
          ]
        },
        {
          "metadata": {
            "tags": null
          },
          "name": "stdout",
          "output_type": "stream",
          "text": [
            "\u001b[34m\u001b[1malbumentations: \u001b[0mBlur(p=0.01, blur_limit=(3, 7)), MedianBlur(p=0.01, blur_limit=(3, 7)), ToGray(p=0.01), CLAHE(p=0.01, clip_limit=(1, 4.0), tile_grid_size=(8, 8))\n"
          ]
        },
        {
          "metadata": {
            "tags": null
          },
          "name": "stderr",
          "output_type": "stream",
          "text": [
            "/usr/local/lib/python3.10/dist-packages/albumentations/__init__.py:13: UserWarning: A new version of Albumentations is available: 1.4.15 (you have 1.4.14). Upgrade using: pip install -U albumentations. To disable automatic update checks, set the environment variable NO_ALBUMENTATIONS_UPDATE to 1.\n",
            "  check_for_updates()\n",
            "\u001b[34m\u001b[1mval: \u001b[0mScanning /content/gdrive/My Drive/manok/bigdata/labels/val.cache... 136 images, 2 backgrounds, 0 corrupt: 100%|██████████| 136/136 [00:00<?, ?it/s]\n"
          ]
        },
        {
          "metadata": {
            "tags": null
          },
          "name": "stdout",
          "output_type": "stream",
          "text": [
            "Plotting labels to runs/detect/train/labels.jpg... \n",
            "\u001b[34m\u001b[1moptimizer:\u001b[0m 'optimizer=auto' found, ignoring 'lr0=0.01' and 'momentum=0.937' and determining best 'optimizer', 'lr0' and 'momentum' automatically... \n",
            "\u001b[34m\u001b[1moptimizer:\u001b[0m AdamW(lr=0.002, momentum=0.9) with parameter groups 57 weight(decay=0.0), 64 weight(decay=0.0005), 63 bias(decay=0.0)\n",
            "\u001b[34m\u001b[1mTensorBoard: \u001b[0mmodel graph visualization added ✅\n",
            "Image sizes 640 train, 640 val\n",
            "Using 0 dataloader workers\n",
            "Logging results to \u001b[1mruns/detect/train\u001b[0m\n",
            "Starting training for 32 epochs...\n",
            "\n",
            "      Epoch    GPU_mem   box_loss   cls_loss   dfl_loss  Instances       Size\n"
          ]
        },
        {
          "metadata": {
            "tags": null
          },
          "name": "stderr",
          "output_type": "stream",
          "text": [
            "       1/32         0G     0.7958     0.7017      1.212         19        640: 100%|██████████| 88/88 [20:07<00:00, 13.72s/it]\n",
            "                 Class     Images  Instances      Box(P          R      mAP50  mAP50-95): 100%|██████████| 5/5 [01:27<00:00, 17.55s/it]"
          ]
        },
        {
          "metadata": {
            "tags": null
          },
          "name": "stdout",
          "output_type": "stream",
          "text": [
            "                   all        136        225      0.848      0.771      0.842      0.562\n"
          ]
        },
        {
          "metadata": {
            "tags": null
          },
          "name": "stderr",
          "output_type": "stream",
          "text": [
            "\n"
          ]
        },
        {
          "metadata": {
            "tags": null
          },
          "name": "stdout",
          "output_type": "stream",
          "text": [
            "\n",
            "      Epoch    GPU_mem   box_loss   cls_loss   dfl_loss  Instances       Size\n"
          ]
        },
        {
          "metadata": {
            "tags": null
          },
          "name": "stderr",
          "output_type": "stream",
          "text": [
            "       2/32         0G     0.8831     0.7967      1.276         25        640: 100%|██████████| 88/88 [19:17<00:00, 13.15s/it]\n",
            "                 Class     Images  Instances      Box(P          R      mAP50  mAP50-95): 100%|██████████| 5/5 [00:41<00:00,  8.38s/it]"
          ]
        },
        {
          "metadata": {
            "tags": null
          },
          "name": "stdout",
          "output_type": "stream",
          "text": [
            "                   all        136        225        0.8      0.769      0.804      0.525\n"
          ]
        },
        {
          "metadata": {
            "tags": null
          },
          "name": "stderr",
          "output_type": "stream",
          "text": [
            "\n"
          ]
        },
        {
          "metadata": {
            "tags": null
          },
          "name": "stdout",
          "output_type": "stream",
          "text": [
            "\n",
            "      Epoch    GPU_mem   box_loss   cls_loss   dfl_loss  Instances       Size\n"
          ]
        },
        {
          "metadata": {
            "tags": null
          },
          "name": "stderr",
          "output_type": "stream",
          "text": [
            "       3/32         0G     0.9426     0.8737      1.338         39        640: 100%|██████████| 88/88 [19:02<00:00, 12.99s/it]\n",
            "                 Class     Images  Instances      Box(P          R      mAP50  mAP50-95): 100%|██████████| 5/5 [00:40<00:00,  8.16s/it]"
          ]
        },
        {
          "metadata": {
            "tags": null
          },
          "name": "stdout",
          "output_type": "stream",
          "text": [
            "                   all        136        225       0.81      0.737      0.804      0.491\n"
          ]
        },
        {
          "metadata": {
            "tags": null
          },
          "name": "stderr",
          "output_type": "stream",
          "text": [
            "\n"
          ]
        },
        {
          "metadata": {
            "tags": null
          },
          "name": "stdout",
          "output_type": "stream",
          "text": [
            "\n",
            "      Epoch    GPU_mem   box_loss   cls_loss   dfl_loss  Instances       Size\n"
          ]
        },
        {
          "metadata": {
            "tags": null
          },
          "name": "stderr",
          "output_type": "stream",
          "text": [
            "       4/32         0G     0.9746     0.9149      1.349         18        640: 100%|██████████| 88/88 [19:06<00:00, 13.03s/it]\n",
            "                 Class     Images  Instances      Box(P          R      mAP50  mAP50-95): 100%|██████████| 5/5 [00:40<00:00,  8.07s/it]"
          ]
        },
        {
          "metadata": {
            "tags": null
          },
          "name": "stdout",
          "output_type": "stream",
          "text": [
            "                   all        136        225      0.769      0.702      0.762      0.476\n"
          ]
        },
        {
          "metadata": {
            "tags": null
          },
          "name": "stderr",
          "output_type": "stream",
          "text": [
            "\n"
          ]
        },
        {
          "metadata": {
            "tags": null
          },
          "name": "stdout",
          "output_type": "stream",
          "text": [
            "\n",
            "      Epoch    GPU_mem   box_loss   cls_loss   dfl_loss  Instances       Size\n"
          ]
        },
        {
          "metadata": {
            "tags": null
          },
          "name": "stderr",
          "output_type": "stream",
          "text": [
            "       5/32         0G     0.9662      0.897      1.341         27        640: 100%|██████████| 88/88 [19:09<00:00, 13.06s/it]\n",
            "                 Class     Images  Instances      Box(P          R      mAP50  mAP50-95): 100%|██████████| 5/5 [00:39<00:00,  7.92s/it]"
          ]
        },
        {
          "metadata": {
            "tags": null
          },
          "name": "stdout",
          "output_type": "stream",
          "text": [
            "                   all        136        225      0.799      0.793      0.845      0.534\n"
          ]
        },
        {
          "metadata": {
            "tags": null
          },
          "name": "stderr",
          "output_type": "stream",
          "text": [
            "\n"
          ]
        },
        {
          "metadata": {
            "tags": null
          },
          "name": "stdout",
          "output_type": "stream",
          "text": [
            "\n",
            "      Epoch    GPU_mem   box_loss   cls_loss   dfl_loss  Instances       Size\n"
          ]
        },
        {
          "metadata": {
            "tags": null
          },
          "name": "stderr",
          "output_type": "stream",
          "text": [
            "       6/32         0G     0.9731     0.8937       1.35         28        640: 100%|██████████| 88/88 [19:01<00:00, 12.98s/it]\n",
            "                 Class     Images  Instances      Box(P          R      mAP50  mAP50-95): 100%|██████████| 5/5 [00:40<00:00,  8.08s/it]"
          ]
        },
        {
          "metadata": {
            "tags": null
          },
          "name": "stdout",
          "output_type": "stream",
          "text": [
            "                   all        136        225      0.766      0.755      0.813      0.497\n"
          ]
        },
        {
          "metadata": {
            "tags": null
          },
          "name": "stderr",
          "output_type": "stream",
          "text": [
            "\n"
          ]
        },
        {
          "metadata": {
            "tags": null
          },
          "name": "stdout",
          "output_type": "stream",
          "text": [
            "\n",
            "      Epoch    GPU_mem   box_loss   cls_loss   dfl_loss  Instances       Size\n"
          ]
        },
        {
          "metadata": {
            "tags": null
          },
          "name": "stderr",
          "output_type": "stream",
          "text": [
            "       7/32         0G     0.9337     0.8752      1.323         34        640: 100%|██████████| 88/88 [18:52<00:00, 12.87s/it]\n",
            "                 Class     Images  Instances      Box(P          R      mAP50  mAP50-95): 100%|██████████| 5/5 [00:38<00:00,  7.79s/it]"
          ]
        },
        {
          "metadata": {
            "tags": null
          },
          "name": "stdout",
          "output_type": "stream",
          "text": [
            "                   all        136        225      0.813      0.713      0.803      0.514\n"
          ]
        },
        {
          "metadata": {
            "tags": null
          },
          "name": "stderr",
          "output_type": "stream",
          "text": [
            "\n"
          ]
        },
        {
          "metadata": {
            "tags": null
          },
          "name": "stdout",
          "output_type": "stream",
          "text": [
            "\n",
            "      Epoch    GPU_mem   box_loss   cls_loss   dfl_loss  Instances       Size\n"
          ]
        },
        {
          "metadata": {
            "tags": null
          },
          "name": "stderr",
          "output_type": "stream",
          "text": [
            "       8/32         0G     0.9429     0.8434      1.316         31        640: 100%|██████████| 88/88 [18:49<00:00, 12.84s/it]\n",
            "                 Class     Images  Instances      Box(P          R      mAP50  mAP50-95): 100%|██████████| 5/5 [00:41<00:00,  8.29s/it]"
          ]
        },
        {
          "metadata": {
            "tags": null
          },
          "name": "stdout",
          "output_type": "stream",
          "text": [
            "                   all        136        225      0.836      0.813      0.848      0.528\n"
          ]
        },
        {
          "metadata": {
            "tags": null
          },
          "name": "stderr",
          "output_type": "stream",
          "text": [
            "\n"
          ]
        },
        {
          "metadata": {
            "tags": null
          },
          "name": "stdout",
          "output_type": "stream",
          "text": [
            "\n",
            "      Epoch    GPU_mem   box_loss   cls_loss   dfl_loss  Instances       Size\n"
          ]
        },
        {
          "metadata": {
            "tags": null
          },
          "name": "stderr",
          "output_type": "stream",
          "text": [
            "       9/32         0G     0.9357     0.8388      1.332         26        640: 100%|██████████| 88/88 [18:48<00:00, 12.82s/it]\n",
            "                 Class     Images  Instances      Box(P          R      mAP50  mAP50-95): 100%|██████████| 5/5 [00:39<00:00,  7.87s/it]"
          ]
        },
        {
          "metadata": {
            "tags": null
          },
          "name": "stdout",
          "output_type": "stream",
          "text": [
            "                   all        136        225      0.885      0.796      0.869      0.571\n"
          ]
        },
        {
          "metadata": {
            "tags": null
          },
          "name": "stderr",
          "output_type": "stream",
          "text": [
            "\n"
          ]
        },
        {
          "metadata": {
            "tags": null
          },
          "name": "stdout",
          "output_type": "stream",
          "text": [
            "\n",
            "      Epoch    GPU_mem   box_loss   cls_loss   dfl_loss  Instances       Size\n"
          ]
        },
        {
          "output_type": "stream",
          "name": "stderr",
          "text": [
            "      10/32         0G     0.9086     0.8249      1.303         34        640: 100%|██████████| 88/88 [18:48<00:00, 12.83s/it]\n",
            "                 Class     Images  Instances      Box(P          R      mAP50  mAP50-95): 100%|██████████| 5/5 [00:41<00:00,  8.36s/it]"
          ]
        },
        {
          "output_type": "stream",
          "name": "stdout",
          "text": [
            "                   all        136        225      0.834      0.762      0.818      0.521\n"
          ]
        },
        {
          "output_type": "stream",
          "name": "stderr",
          "text": [
            "\n"
          ]
        },
        {
          "output_type": "stream",
          "name": "stdout",
          "text": [
            "\n",
            "      Epoch    GPU_mem   box_loss   cls_loss   dfl_loss  Instances       Size\n"
          ]
        },
        {
          "output_type": "stream",
          "name": "stderr",
          "text": [
            "      11/32         0G     0.8843     0.8019      1.282         27        640: 100%|██████████| 88/88 [18:50<00:00, 12.84s/it]\n",
            "                 Class     Images  Instances      Box(P          R      mAP50  mAP50-95): 100%|██████████| 5/5 [00:40<00:00,  8.08s/it]"
          ]
        },
        {
          "output_type": "stream",
          "name": "stdout",
          "text": [
            "                   all        136        225      0.849      0.775      0.844      0.552\n"
          ]
        },
        {
          "output_type": "stream",
          "name": "stderr",
          "text": [
            "\n"
          ]
        },
        {
          "output_type": "stream",
          "name": "stdout",
          "text": [
            "\n",
            "      Epoch    GPU_mem   box_loss   cls_loss   dfl_loss  Instances       Size\n"
          ]
        },
        {
          "output_type": "stream",
          "name": "stderr",
          "text": [
            "      12/32         0G     0.8826     0.7855      1.276         30        640: 100%|██████████| 88/88 [18:49<00:00, 12.84s/it]\n",
            "                 Class     Images  Instances      Box(P          R      mAP50  mAP50-95): 100%|██████████| 5/5 [00:39<00:00,  8.00s/it]"
          ]
        },
        {
          "output_type": "stream",
          "name": "stdout",
          "text": [
            "                   all        136        225      0.838      0.822      0.851      0.569\n"
          ]
        },
        {
          "output_type": "stream",
          "name": "stderr",
          "text": [
            "\n"
          ]
        },
        {
          "output_type": "stream",
          "name": "stdout",
          "text": [
            "\n",
            "      Epoch    GPU_mem   box_loss   cls_loss   dfl_loss  Instances       Size\n"
          ]
        },
        {
          "output_type": "stream",
          "name": "stderr",
          "text": [
            "      13/32         0G     0.8708     0.7603      1.272         37        640: 100%|██████████| 88/88 [18:49<00:00, 12.84s/it]\n",
            "                 Class     Images  Instances      Box(P          R      mAP50  mAP50-95): 100%|██████████| 5/5 [00:39<00:00,  7.83s/it]"
          ]
        },
        {
          "output_type": "stream",
          "name": "stdout",
          "text": [
            "                   all        136        225      0.904      0.756      0.848      0.563\n"
          ]
        },
        {
          "output_type": "stream",
          "name": "stderr",
          "text": [
            "\n"
          ]
        },
        {
          "output_type": "stream",
          "name": "stdout",
          "text": [
            "\n",
            "      Epoch    GPU_mem   box_loss   cls_loss   dfl_loss  Instances       Size\n"
          ]
        },
        {
          "output_type": "stream",
          "name": "stderr",
          "text": [
            "      14/32         0G     0.8522     0.7461      1.255         24        640: 100%|██████████| 88/88 [18:47<00:00, 12.82s/it]\n",
            "                 Class     Images  Instances      Box(P          R      mAP50  mAP50-95): 100%|██████████| 5/5 [00:40<00:00,  8.06s/it]"
          ]
        },
        {
          "output_type": "stream",
          "name": "stdout",
          "text": [
            "                   all        136        225      0.893      0.804      0.861      0.578\n"
          ]
        },
        {
          "output_type": "stream",
          "name": "stderr",
          "text": [
            "\n"
          ]
        },
        {
          "output_type": "stream",
          "name": "stdout",
          "text": [
            "\n",
            "      Epoch    GPU_mem   box_loss   cls_loss   dfl_loss  Instances       Size\n"
          ]
        },
        {
          "output_type": "stream",
          "name": "stderr",
          "text": [
            "      15/32         0G      0.837     0.7447      1.242         16        640: 100%|██████████| 88/88 [18:44<00:00, 12.78s/it]\n",
            "                 Class     Images  Instances      Box(P          R      mAP50  mAP50-95): 100%|██████████| 5/5 [00:40<00:00,  8.04s/it]"
          ]
        },
        {
          "output_type": "stream",
          "name": "stdout",
          "text": [
            "                   all        136        225      0.854      0.809      0.856      0.589\n"
          ]
        },
        {
          "output_type": "stream",
          "name": "stderr",
          "text": [
            "\n"
          ]
        },
        {
          "output_type": "stream",
          "name": "stdout",
          "text": [
            "\n",
            "      Epoch    GPU_mem   box_loss   cls_loss   dfl_loss  Instances       Size\n"
          ]
        },
        {
          "output_type": "stream",
          "name": "stderr",
          "text": [
            "      16/32         0G     0.7956      0.709       1.22         33        640: 100%|██████████| 88/88 [18:45<00:00, 12.79s/it]\n",
            "                 Class     Images  Instances      Box(P          R      mAP50  mAP50-95): 100%|██████████| 5/5 [00:40<00:00,  8.06s/it]"
          ]
        },
        {
          "output_type": "stream",
          "name": "stdout",
          "text": [
            "                   all        136        225      0.864      0.804      0.865      0.574\n"
          ]
        },
        {
          "output_type": "stream",
          "name": "stderr",
          "text": [
            "\n"
          ]
        },
        {
          "output_type": "stream",
          "name": "stdout",
          "text": [
            "\n",
            "      Epoch    GPU_mem   box_loss   cls_loss   dfl_loss  Instances       Size\n"
          ]
        },
        {
          "output_type": "stream",
          "name": "stderr",
          "text": [
            "      17/32         0G     0.8072     0.7174      1.216         32        640: 100%|██████████| 88/88 [18:54<00:00, 12.89s/it]\n",
            "                 Class     Images  Instances      Box(P          R      mAP50  mAP50-95): 100%|██████████| 5/5 [00:42<00:00,  8.43s/it]"
          ]
        },
        {
          "output_type": "stream",
          "name": "stdout",
          "text": [
            "                   all        136        225      0.879        0.8      0.864      0.578\n"
          ]
        },
        {
          "output_type": "stream",
          "name": "stderr",
          "text": [
            "\n"
          ]
        },
        {
          "output_type": "stream",
          "name": "stdout",
          "text": [
            "\n",
            "      Epoch    GPU_mem   box_loss   cls_loss   dfl_loss  Instances       Size\n"
          ]
        },
        {
          "output_type": "stream",
          "name": "stderr",
          "text": [
            "      18/32         0G     0.7937     0.6792      1.219         31        640: 100%|██████████| 88/88 [18:59<00:00, 12.95s/it]\n",
            "                 Class     Images  Instances      Box(P          R      mAP50  mAP50-95): 100%|██████████| 5/5 [00:42<00:00,  8.46s/it]"
          ]
        },
        {
          "output_type": "stream",
          "name": "stdout",
          "text": [
            "                   all        136        225       0.89      0.791      0.861      0.578\n"
          ]
        },
        {
          "output_type": "stream",
          "name": "stderr",
          "text": [
            "\n"
          ]
        },
        {
          "output_type": "stream",
          "name": "stdout",
          "text": [
            "\n",
            "      Epoch    GPU_mem   box_loss   cls_loss   dfl_loss  Instances       Size\n"
          ]
        },
        {
          "output_type": "stream",
          "name": "stderr",
          "text": [
            "      19/32         0G     0.7842     0.6878      1.204         31        640: 100%|██████████| 88/88 [18:55<00:00, 12.91s/it]\n",
            "                 Class     Images  Instances      Box(P          R      mAP50  mAP50-95): 100%|██████████| 5/5 [00:39<00:00,  7.82s/it]"
          ]
        },
        {
          "output_type": "stream",
          "name": "stdout",
          "text": [
            "                   all        136        225      0.836      0.791      0.862      0.579\n"
          ]
        },
        {
          "output_type": "stream",
          "name": "stderr",
          "text": [
            "\n"
          ]
        },
        {
          "output_type": "stream",
          "name": "stdout",
          "text": [
            "\n",
            "      Epoch    GPU_mem   box_loss   cls_loss   dfl_loss  Instances       Size\n"
          ]
        },
        {
          "output_type": "stream",
          "name": "stderr",
          "text": [
            "      20/32         0G     0.7472     0.6566      1.188         29        640: 100%|██████████| 88/88 [19:41<00:00, 13.42s/it]\n",
            "                 Class     Images  Instances      Box(P          R      mAP50  mAP50-95): 100%|██████████| 5/5 [00:38<00:00,  7.71s/it]"
          ]
        },
        {
          "output_type": "stream",
          "name": "stdout",
          "text": [
            "                   all        136        225       0.92      0.827      0.885      0.621\n"
          ]
        },
        {
          "output_type": "stream",
          "name": "stderr",
          "text": [
            "\n"
          ]
        },
        {
          "output_type": "stream",
          "name": "stdout",
          "text": [
            "\n",
            "      Epoch    GPU_mem   box_loss   cls_loss   dfl_loss  Instances       Size\n"
          ]
        },
        {
          "output_type": "stream",
          "name": "stderr",
          "text": [
            "      21/32         0G     0.7308     0.6142      1.161         52        640:  45%|████▌     | 40/88 [08:40<10:35, 13.24s/it]"
          ]
        }
      ]
    },
    {
      "cell_type": "code",
      "source": [
        "!scp -r /content/runs '/content/gdrive/My Drive/manok'"
      ],
      "metadata": {
        "id": "s9pNlUMC9ACC"
      },
      "execution_count": null,
      "outputs": []
    },
    {
      "cell_type": "markdown",
      "source": [
        "test the model using a video"
      ],
      "metadata": {
        "id": "TdYd2lALSJ4l"
      }
    },
    {
      "cell_type": "code",
      "source": [
        "# Define paths\n",
        "VIDEOS_DIR = '/content/gdrive/My Drive/manok/dataset2'\n",
        "video_path = os.path.join(VIDEOS_DIR, 'chickentry.mp4')\n",
        "video_path_out = os.path.join(VIDEOS_DIR, 'chickentry_out.mp4')\n",
        "\n",
        "# Load video\n",
        "cap = cv2.VideoCapture(video_path)\n",
        "ret, frame = cap.read()\n",
        "\n",
        "if ret:\n",
        "    H, W, _ = frame.shape\n",
        "    out = cv2.VideoWriter(video_path_out, cv2.VideoWriter_fourcc(*'MP4V'), int(cap.get(cv2.CAP_PROP_FPS)), (W, H))\n",
        "\n",
        "    model_path = '/content/gdrive/My Drive/manok/runs/detect/train6/weights/last.pt'\n",
        "    model = YOLO(model_path)\n",
        "\n",
        "    threshold = 0.5\n",
        "\n",
        "    while ret:\n",
        "        results = model(frame)[0]\n",
        "\n",
        "        for result in results.boxes.data.tolist():\n",
        "            x1, y1, x2, y2, score, class_id = result\n",
        "\n",
        "            if score > threshold:\n",
        "                cv2.rectangle(frame, (int(x1), int(y1)), (int(x2), int(y2)), (0, 255, 0), 4)\n",
        "                cv2.putText(frame, results.names[int(class_id)].upper(), (int(x1), int(y1 - 10)),\n",
        "                            cv2.FONT_HERSHEY_SIMPLEX, 1.3, (0, 255, 0), 3, cv2.LINE_AA)\n",
        "\n",
        "        out.write(frame)\n",
        "        ret, frame = cap.read()\n",
        "\n",
        "    cap.release()\n",
        "    out.release()\n",
        "    cv2.destroyAllWindows()\n",
        "else:\n",
        "    print(\"Failed to read the video file.\")\n"
      ],
      "metadata": {
        "colab": {
          "base_uri": "https://localhost:8080/"
        },
        "id": "P_Z-QJcsSNcX",
        "outputId": "9ecb813f-409f-43c4-b706-aa3e1445fe59",
        "collapsed": true
      },
      "execution_count": null,
      "outputs": [
        {
          "output_type": "stream",
          "name": "stdout",
          "text": [
            "\n",
            "0: 384x640 4 chickens, 146.3ms\n",
            "Speed: 6.1ms preprocess, 146.3ms inference, 1.5ms postprocess per image at shape (1, 3, 384, 640)\n",
            "\n",
            "0: 384x640 4 chickens, 141.5ms\n",
            "Speed: 4.2ms preprocess, 141.5ms inference, 1.4ms postprocess per image at shape (1, 3, 384, 640)\n",
            "\n",
            "0: 384x640 4 chickens, 142.2ms\n",
            "Speed: 4.4ms preprocess, 142.2ms inference, 1.1ms postprocess per image at shape (1, 3, 384, 640)\n",
            "\n",
            "0: 384x640 4 chickens, 142.7ms\n",
            "Speed: 4.3ms preprocess, 142.7ms inference, 1.0ms postprocess per image at shape (1, 3, 384, 640)\n",
            "\n",
            "0: 384x640 4 chickens, 168.8ms\n",
            "Speed: 4.2ms preprocess, 168.8ms inference, 1.0ms postprocess per image at shape (1, 3, 384, 640)\n",
            "\n",
            "0: 384x640 4 chickens, 140.6ms\n",
            "Speed: 4.5ms preprocess, 140.6ms inference, 1.0ms postprocess per image at shape (1, 3, 384, 640)\n",
            "\n",
            "0: 384x640 4 chickens, 164.2ms\n",
            "Speed: 5.9ms preprocess, 164.2ms inference, 1.0ms postprocess per image at shape (1, 3, 384, 640)\n",
            "\n",
            "0: 384x640 4 chickens, 135.3ms\n",
            "Speed: 6.8ms preprocess, 135.3ms inference, 1.4ms postprocess per image at shape (1, 3, 384, 640)\n",
            "\n",
            "0: 384x640 4 chickens, 140.1ms\n",
            "Speed: 4.0ms preprocess, 140.1ms inference, 1.0ms postprocess per image at shape (1, 3, 384, 640)\n",
            "\n",
            "0: 384x640 4 chickens, 138.9ms\n",
            "Speed: 4.4ms preprocess, 138.9ms inference, 1.0ms postprocess per image at shape (1, 3, 384, 640)\n",
            "\n",
            "0: 384x640 4 chickens, 147.4ms\n",
            "Speed: 4.4ms preprocess, 147.4ms inference, 1.6ms postprocess per image at shape (1, 3, 384, 640)\n",
            "\n",
            "0: 384x640 4 chickens, 166.0ms\n",
            "Speed: 4.3ms preprocess, 166.0ms inference, 1.2ms postprocess per image at shape (1, 3, 384, 640)\n",
            "\n",
            "0: 384x640 4 chickens, 151.0ms\n",
            "Speed: 4.3ms preprocess, 151.0ms inference, 1.0ms postprocess per image at shape (1, 3, 384, 640)\n",
            "\n",
            "0: 384x640 4 chickens, 147.6ms\n",
            "Speed: 7.1ms preprocess, 147.6ms inference, 1.0ms postprocess per image at shape (1, 3, 384, 640)\n",
            "\n",
            "0: 384x640 4 chickens, 140.2ms\n",
            "Speed: 5.2ms preprocess, 140.2ms inference, 1.0ms postprocess per image at shape (1, 3, 384, 640)\n",
            "\n",
            "0: 384x640 4 chickens, 142.7ms\n",
            "Speed: 4.4ms preprocess, 142.7ms inference, 1.0ms postprocess per image at shape (1, 3, 384, 640)\n",
            "\n",
            "0: 384x640 4 chickens, 154.5ms\n",
            "Speed: 3.6ms preprocess, 154.5ms inference, 1.0ms postprocess per image at shape (1, 3, 384, 640)\n",
            "\n",
            "0: 384x640 4 chickens, 161.3ms\n",
            "Speed: 4.2ms preprocess, 161.3ms inference, 1.1ms postprocess per image at shape (1, 3, 384, 640)\n",
            "\n",
            "0: 384x640 4 chickens, 146.8ms\n",
            "Speed: 4.1ms preprocess, 146.8ms inference, 1.0ms postprocess per image at shape (1, 3, 384, 640)\n",
            "\n",
            "0: 384x640 4 chickens, 136.7ms\n",
            "Speed: 4.3ms preprocess, 136.7ms inference, 1.0ms postprocess per image at shape (1, 3, 384, 640)\n",
            "\n",
            "0: 384x640 4 chickens, 135.9ms\n",
            "Speed: 4.2ms preprocess, 135.9ms inference, 1.0ms postprocess per image at shape (1, 3, 384, 640)\n",
            "\n",
            "0: 384x640 4 chickens, 158.5ms\n",
            "Speed: 6.0ms preprocess, 158.5ms inference, 1.4ms postprocess per image at shape (1, 3, 384, 640)\n",
            "\n",
            "0: 384x640 4 chickens, 136.6ms\n",
            "Speed: 4.4ms preprocess, 136.6ms inference, 1.0ms postprocess per image at shape (1, 3, 384, 640)\n",
            "\n",
            "0: 384x640 4 chickens, 149.0ms\n",
            "Speed: 4.4ms preprocess, 149.0ms inference, 1.0ms postprocess per image at shape (1, 3, 384, 640)\n",
            "\n",
            "0: 384x640 4 chickens, 136.0ms\n",
            "Speed: 4.7ms preprocess, 136.0ms inference, 1.0ms postprocess per image at shape (1, 3, 384, 640)\n",
            "\n",
            "0: 384x640 4 chickens, 140.9ms\n",
            "Speed: 4.9ms preprocess, 140.9ms inference, 1.1ms postprocess per image at shape (1, 3, 384, 640)\n",
            "\n",
            "0: 384x640 4 chickens, 144.0ms\n",
            "Speed: 4.0ms preprocess, 144.0ms inference, 1.5ms postprocess per image at shape (1, 3, 384, 640)\n",
            "\n",
            "0: 384x640 4 chickens, 141.5ms\n",
            "Speed: 4.3ms preprocess, 141.5ms inference, 1.0ms postprocess per image at shape (1, 3, 384, 640)\n",
            "\n",
            "0: 384x640 4 chickens, 145.0ms\n",
            "Speed: 4.3ms preprocess, 145.0ms inference, 1.4ms postprocess per image at shape (1, 3, 384, 640)\n",
            "\n",
            "0: 384x640 4 chickens, 133.9ms\n",
            "Speed: 4.5ms preprocess, 133.9ms inference, 1.0ms postprocess per image at shape (1, 3, 384, 640)\n",
            "\n",
            "0: 384x640 4 chickens, 135.5ms\n",
            "Speed: 5.6ms preprocess, 135.5ms inference, 1.0ms postprocess per image at shape (1, 3, 384, 640)\n",
            "\n",
            "0: 384x640 4 chickens, 136.5ms\n",
            "Speed: 3.5ms preprocess, 136.5ms inference, 1.0ms postprocess per image at shape (1, 3, 384, 640)\n",
            "\n",
            "0: 384x640 4 chickens, 149.1ms\n",
            "Speed: 5.4ms preprocess, 149.1ms inference, 1.1ms postprocess per image at shape (1, 3, 384, 640)\n",
            "\n",
            "0: 384x640 4 chickens, 140.0ms\n",
            "Speed: 4.6ms preprocess, 140.0ms inference, 1.0ms postprocess per image at shape (1, 3, 384, 640)\n",
            "\n",
            "0: 384x640 4 chickens, 147.4ms\n",
            "Speed: 5.2ms preprocess, 147.4ms inference, 1.0ms postprocess per image at shape (1, 3, 384, 640)\n",
            "\n",
            "0: 384x640 4 chickens, 135.5ms\n",
            "Speed: 3.5ms preprocess, 135.5ms inference, 1.0ms postprocess per image at shape (1, 3, 384, 640)\n",
            "\n",
            "0: 384x640 4 chickens, 142.2ms\n",
            "Speed: 4.7ms preprocess, 142.2ms inference, 1.0ms postprocess per image at shape (1, 3, 384, 640)\n",
            "\n",
            "0: 384x640 4 chickens, 149.8ms\n",
            "Speed: 4.3ms preprocess, 149.8ms inference, 1.2ms postprocess per image at shape (1, 3, 384, 640)\n",
            "\n",
            "0: 384x640 4 chickens, 145.0ms\n",
            "Speed: 7.5ms preprocess, 145.0ms inference, 1.0ms postprocess per image at shape (1, 3, 384, 640)\n",
            "\n",
            "0: 384x640 4 chickens, 133.2ms\n",
            "Speed: 4.0ms preprocess, 133.2ms inference, 1.0ms postprocess per image at shape (1, 3, 384, 640)\n",
            "\n",
            "0: 384x640 4 chickens, 141.2ms\n",
            "Speed: 4.4ms preprocess, 141.2ms inference, 1.3ms postprocess per image at shape (1, 3, 384, 640)\n",
            "\n",
            "0: 384x640 4 chickens, 143.8ms\n",
            "Speed: 4.4ms preprocess, 143.8ms inference, 1.0ms postprocess per image at shape (1, 3, 384, 640)\n",
            "\n",
            "0: 384x640 4 chickens, 209.4ms\n",
            "Speed: 4.7ms preprocess, 209.4ms inference, 1.3ms postprocess per image at shape (1, 3, 384, 640)\n",
            "\n",
            "0: 384x640 4 chickens, 222.9ms\n",
            "Speed: 5.5ms preprocess, 222.9ms inference, 1.2ms postprocess per image at shape (1, 3, 384, 640)\n",
            "\n",
            "0: 384x640 4 chickens, 221.9ms\n",
            "Speed: 4.8ms preprocess, 221.9ms inference, 1.3ms postprocess per image at shape (1, 3, 384, 640)\n",
            "\n",
            "0: 384x640 4 chickens, 220.4ms\n",
            "Speed: 4.5ms preprocess, 220.4ms inference, 1.5ms postprocess per image at shape (1, 3, 384, 640)\n",
            "\n",
            "0: 384x640 4 chickens, 221.2ms\n",
            "Speed: 5.5ms preprocess, 221.2ms inference, 1.3ms postprocess per image at shape (1, 3, 384, 640)\n",
            "\n",
            "0: 384x640 4 chickens, 207.4ms\n",
            "Speed: 5.2ms preprocess, 207.4ms inference, 1.4ms postprocess per image at shape (1, 3, 384, 640)\n",
            "\n",
            "0: 384x640 4 chickens, 217.0ms\n",
            "Speed: 7.0ms preprocess, 217.0ms inference, 1.3ms postprocess per image at shape (1, 3, 384, 640)\n",
            "\n",
            "0: 384x640 4 chickens, 219.5ms\n",
            "Speed: 4.4ms preprocess, 219.5ms inference, 1.4ms postprocess per image at shape (1, 3, 384, 640)\n",
            "\n",
            "0: 384x640 4 chickens, 223.3ms\n",
            "Speed: 4.3ms preprocess, 223.3ms inference, 1.3ms postprocess per image at shape (1, 3, 384, 640)\n",
            "\n",
            "0: 384x640 4 chickens, 209.8ms\n",
            "Speed: 8.9ms preprocess, 209.8ms inference, 1.2ms postprocess per image at shape (1, 3, 384, 640)\n",
            "\n",
            "0: 384x640 4 chickens, 238.1ms\n",
            "Speed: 4.3ms preprocess, 238.1ms inference, 1.3ms postprocess per image at shape (1, 3, 384, 640)\n",
            "\n",
            "0: 384x640 4 chickens, 246.0ms\n",
            "Speed: 4.3ms preprocess, 246.0ms inference, 1.5ms postprocess per image at shape (1, 3, 384, 640)\n",
            "\n",
            "0: 384x640 4 chickens, 215.4ms\n",
            "Speed: 4.5ms preprocess, 215.4ms inference, 1.4ms postprocess per image at shape (1, 3, 384, 640)\n",
            "\n",
            "0: 384x640 4 chickens, 221.8ms\n",
            "Speed: 4.7ms preprocess, 221.8ms inference, 1.8ms postprocess per image at shape (1, 3, 384, 640)\n",
            "\n",
            "0: 384x640 4 chickens, 221.5ms\n",
            "Speed: 5.0ms preprocess, 221.5ms inference, 1.4ms postprocess per image at shape (1, 3, 384, 640)\n",
            "\n",
            "0: 384x640 4 chickens, 257.1ms\n",
            "Speed: 6.0ms preprocess, 257.1ms inference, 1.3ms postprocess per image at shape (1, 3, 384, 640)\n",
            "\n",
            "0: 384x640 4 chickens, 250.0ms\n",
            "Speed: 6.6ms preprocess, 250.0ms inference, 1.4ms postprocess per image at shape (1, 3, 384, 640)\n",
            "\n",
            "0: 384x640 4 chickens, 228.6ms\n",
            "Speed: 4.7ms preprocess, 228.6ms inference, 1.1ms postprocess per image at shape (1, 3, 384, 640)\n",
            "\n",
            "0: 384x640 3 chickens, 148.9ms\n",
            "Speed: 4.8ms preprocess, 148.9ms inference, 1.0ms postprocess per image at shape (1, 3, 384, 640)\n",
            "\n",
            "0: 384x640 3 chickens, 136.2ms\n",
            "Speed: 4.8ms preprocess, 136.2ms inference, 1.0ms postprocess per image at shape (1, 3, 384, 640)\n",
            "\n",
            "0: 384x640 4 chickens, 138.9ms\n",
            "Speed: 4.7ms preprocess, 138.9ms inference, 1.0ms postprocess per image at shape (1, 3, 384, 640)\n",
            "\n",
            "0: 384x640 4 chickens, 139.6ms\n",
            "Speed: 4.9ms preprocess, 139.6ms inference, 1.0ms postprocess per image at shape (1, 3, 384, 640)\n",
            "\n",
            "0: 384x640 4 chickens, 153.3ms\n",
            "Speed: 4.4ms preprocess, 153.3ms inference, 1.0ms postprocess per image at shape (1, 3, 384, 640)\n",
            "\n",
            "0: 384x640 4 chickens, 148.5ms\n",
            "Speed: 3.9ms preprocess, 148.5ms inference, 1.3ms postprocess per image at shape (1, 3, 384, 640)\n",
            "\n",
            "0: 384x640 4 chickens, 143.1ms\n",
            "Speed: 5.5ms preprocess, 143.1ms inference, 1.0ms postprocess per image at shape (1, 3, 384, 640)\n",
            "\n",
            "0: 384x640 4 chickens, 143.3ms\n",
            "Speed: 4.8ms preprocess, 143.3ms inference, 1.0ms postprocess per image at shape (1, 3, 384, 640)\n",
            "\n",
            "0: 384x640 4 chickens, 139.1ms\n",
            "Speed: 4.9ms preprocess, 139.1ms inference, 1.1ms postprocess per image at shape (1, 3, 384, 640)\n",
            "\n",
            "0: 384x640 4 chickens, 143.7ms\n",
            "Speed: 3.4ms preprocess, 143.7ms inference, 1.0ms postprocess per image at shape (1, 3, 384, 640)\n",
            "\n",
            "0: 384x640 4 chickens, 155.3ms\n",
            "Speed: 4.6ms preprocess, 155.3ms inference, 1.0ms postprocess per image at shape (1, 3, 384, 640)\n",
            "\n",
            "0: 384x640 5 chickens, 158.3ms\n",
            "Speed: 3.5ms preprocess, 158.3ms inference, 1.2ms postprocess per image at shape (1, 3, 384, 640)\n",
            "\n",
            "0: 384x640 5 chickens, 155.0ms\n",
            "Speed: 5.3ms preprocess, 155.0ms inference, 1.0ms postprocess per image at shape (1, 3, 384, 640)\n",
            "\n",
            "0: 384x640 5 chickens, 140.7ms\n",
            "Speed: 4.3ms preprocess, 140.7ms inference, 1.1ms postprocess per image at shape (1, 3, 384, 640)\n",
            "\n",
            "0: 384x640 4 chickens, 138.7ms\n",
            "Speed: 3.1ms preprocess, 138.7ms inference, 1.0ms postprocess per image at shape (1, 3, 384, 640)\n",
            "\n",
            "0: 384x640 5 chickens, 150.9ms\n",
            "Speed: 3.1ms preprocess, 150.9ms inference, 1.0ms postprocess per image at shape (1, 3, 384, 640)\n",
            "\n",
            "0: 384x640 5 chickens, 151.2ms\n",
            "Speed: 4.4ms preprocess, 151.2ms inference, 1.2ms postprocess per image at shape (1, 3, 384, 640)\n",
            "\n",
            "0: 384x640 5 chickens, 139.6ms\n",
            "Speed: 4.8ms preprocess, 139.6ms inference, 1.0ms postprocess per image at shape (1, 3, 384, 640)\n",
            "\n",
            "0: 384x640 5 chickens, 133.2ms\n",
            "Speed: 5.1ms preprocess, 133.2ms inference, 1.0ms postprocess per image at shape (1, 3, 384, 640)\n",
            "\n",
            "0: 384x640 5 chickens, 148.4ms\n",
            "Speed: 4.3ms preprocess, 148.4ms inference, 1.0ms postprocess per image at shape (1, 3, 384, 640)\n",
            "\n",
            "0: 384x640 5 chickens, 132.6ms\n",
            "Speed: 4.9ms preprocess, 132.6ms inference, 1.0ms postprocess per image at shape (1, 3, 384, 640)\n",
            "\n",
            "0: 384x640 4 chickens, 163.0ms\n",
            "Speed: 4.2ms preprocess, 163.0ms inference, 1.6ms postprocess per image at shape (1, 3, 384, 640)\n",
            "\n",
            "0: 384x640 4 chickens, 145.2ms\n",
            "Speed: 4.3ms preprocess, 145.2ms inference, 1.0ms postprocess per image at shape (1, 3, 384, 640)\n",
            "\n",
            "0: 384x640 4 chickens, 134.3ms\n",
            "Speed: 3.3ms preprocess, 134.3ms inference, 1.3ms postprocess per image at shape (1, 3, 384, 640)\n",
            "\n",
            "0: 384x640 4 chickens, 140.2ms\n",
            "Speed: 3.3ms preprocess, 140.2ms inference, 1.0ms postprocess per image at shape (1, 3, 384, 640)\n",
            "\n",
            "0: 384x640 4 chickens, 145.8ms\n",
            "Speed: 4.3ms preprocess, 145.8ms inference, 1.0ms postprocess per image at shape (1, 3, 384, 640)\n",
            "\n",
            "0: 384x640 3 chickens, 160.5ms\n",
            "Speed: 6.3ms preprocess, 160.5ms inference, 1.0ms postprocess per image at shape (1, 3, 384, 640)\n",
            "\n",
            "0: 384x640 4 chickens, 150.5ms\n",
            "Speed: 4.1ms preprocess, 150.5ms inference, 1.0ms postprocess per image at shape (1, 3, 384, 640)\n",
            "\n",
            "0: 384x640 4 chickens, 134.9ms\n",
            "Speed: 4.2ms preprocess, 134.9ms inference, 1.0ms postprocess per image at shape (1, 3, 384, 640)\n",
            "\n",
            "0: 384x640 4 chickens, 135.0ms\n",
            "Speed: 4.1ms preprocess, 135.0ms inference, 1.0ms postprocess per image at shape (1, 3, 384, 640)\n",
            "\n",
            "0: 384x640 4 chickens, 142.9ms\n",
            "Speed: 4.7ms preprocess, 142.9ms inference, 1.0ms postprocess per image at shape (1, 3, 384, 640)\n",
            "\n",
            "0: 384x640 4 chickens, 143.2ms\n",
            "Speed: 4.4ms preprocess, 143.2ms inference, 1.3ms postprocess per image at shape (1, 3, 384, 640)\n",
            "\n",
            "0: 384x640 4 chickens, 162.6ms\n",
            "Speed: 3.4ms preprocess, 162.6ms inference, 1.1ms postprocess per image at shape (1, 3, 384, 640)\n",
            "\n",
            "0: 384x640 4 chickens, 142.7ms\n",
            "Speed: 4.3ms preprocess, 142.7ms inference, 1.0ms postprocess per image at shape (1, 3, 384, 640)\n",
            "\n",
            "0: 384x640 4 chickens, 134.2ms\n",
            "Speed: 4.5ms preprocess, 134.2ms inference, 1.0ms postprocess per image at shape (1, 3, 384, 640)\n",
            "\n",
            "0: 384x640 4 chickens, 141.2ms\n",
            "Speed: 4.0ms preprocess, 141.2ms inference, 1.0ms postprocess per image at shape (1, 3, 384, 640)\n",
            "\n",
            "0: 384x640 4 chickens, 134.1ms\n",
            "Speed: 4.8ms preprocess, 134.1ms inference, 1.0ms postprocess per image at shape (1, 3, 384, 640)\n",
            "\n",
            "0: 384x640 4 chickens, 159.6ms\n",
            "Speed: 12.4ms preprocess, 159.6ms inference, 1.6ms postprocess per image at shape (1, 3, 384, 640)\n",
            "\n",
            "0: 384x640 4 chickens, 152.7ms\n",
            "Speed: 5.2ms preprocess, 152.7ms inference, 1.1ms postprocess per image at shape (1, 3, 384, 640)\n",
            "\n",
            "0: 384x640 4 chickens, 134.5ms\n",
            "Speed: 4.0ms preprocess, 134.5ms inference, 1.0ms postprocess per image at shape (1, 3, 384, 640)\n",
            "\n",
            "0: 384x640 4 chickens, 139.6ms\n",
            "Speed: 4.5ms preprocess, 139.6ms inference, 1.0ms postprocess per image at shape (1, 3, 384, 640)\n",
            "\n",
            "0: 384x640 4 chickens, 138.0ms\n",
            "Speed: 4.0ms preprocess, 138.0ms inference, 1.0ms postprocess per image at shape (1, 3, 384, 640)\n",
            "\n",
            "0: 384x640 4 chickens, 137.6ms\n",
            "Speed: 4.3ms preprocess, 137.6ms inference, 1.0ms postprocess per image at shape (1, 3, 384, 640)\n",
            "\n",
            "0: 384x640 4 chickens, 171.3ms\n",
            "Speed: 4.1ms preprocess, 171.3ms inference, 1.0ms postprocess per image at shape (1, 3, 384, 640)\n",
            "\n",
            "0: 384x640 4 chickens, 136.2ms\n",
            "Speed: 3.3ms preprocess, 136.2ms inference, 1.0ms postprocess per image at shape (1, 3, 384, 640)\n",
            "\n",
            "0: 384x640 4 chickens, 141.4ms\n",
            "Speed: 4.3ms preprocess, 141.4ms inference, 1.0ms postprocess per image at shape (1, 3, 384, 640)\n",
            "\n",
            "0: 384x640 4 chickens, 142.1ms\n",
            "Speed: 4.9ms preprocess, 142.1ms inference, 1.0ms postprocess per image at shape (1, 3, 384, 640)\n",
            "\n",
            "0: 384x640 4 chickens, 137.1ms\n",
            "Speed: 4.0ms preprocess, 137.1ms inference, 1.0ms postprocess per image at shape (1, 3, 384, 640)\n",
            "\n",
            "0: 384x640 5 chickens, 154.5ms\n",
            "Speed: 4.2ms preprocess, 154.5ms inference, 1.4ms postprocess per image at shape (1, 3, 384, 640)\n",
            "\n",
            "0: 384x640 5 chickens, 144.6ms\n",
            "Speed: 8.3ms preprocess, 144.6ms inference, 1.0ms postprocess per image at shape (1, 3, 384, 640)\n",
            "\n",
            "0: 384x640 4 chickens, 138.1ms\n",
            "Speed: 4.7ms preprocess, 138.1ms inference, 1.0ms postprocess per image at shape (1, 3, 384, 640)\n",
            "\n",
            "0: 384x640 4 chickens, 136.6ms\n",
            "Speed: 4.1ms preprocess, 136.6ms inference, 1.4ms postprocess per image at shape (1, 3, 384, 640)\n",
            "\n",
            "0: 384x640 4 chickens, 145.8ms\n",
            "Speed: 4.2ms preprocess, 145.8ms inference, 1.0ms postprocess per image at shape (1, 3, 384, 640)\n",
            "\n",
            "0: 384x640 4 chickens, 198.6ms\n",
            "Speed: 3.1ms preprocess, 198.6ms inference, 1.4ms postprocess per image at shape (1, 3, 384, 640)\n",
            "\n",
            "0: 384x640 4 chickens, 231.6ms\n",
            "Speed: 6.9ms preprocess, 231.6ms inference, 1.3ms postprocess per image at shape (1, 3, 384, 640)\n",
            "\n",
            "0: 384x640 4 chickens, 216.8ms\n",
            "Speed: 4.2ms preprocess, 216.8ms inference, 1.3ms postprocess per image at shape (1, 3, 384, 640)\n",
            "\n",
            "0: 384x640 4 chickens, 212.6ms\n",
            "Speed: 4.3ms preprocess, 212.6ms inference, 1.3ms postprocess per image at shape (1, 3, 384, 640)\n",
            "\n",
            "0: 384x640 4 chickens, 213.3ms\n",
            "Speed: 4.3ms preprocess, 213.3ms inference, 1.2ms postprocess per image at shape (1, 3, 384, 640)\n",
            "\n",
            "0: 384x640 4 chickens, 211.5ms\n",
            "Speed: 7.8ms preprocess, 211.5ms inference, 1.2ms postprocess per image at shape (1, 3, 384, 640)\n",
            "\n",
            "0: 384x640 4 chickens, 212.5ms\n",
            "Speed: 7.0ms preprocess, 212.5ms inference, 1.3ms postprocess per image at shape (1, 3, 384, 640)\n",
            "\n",
            "0: 384x640 3 chickens, 213.5ms\n",
            "Speed: 5.9ms preprocess, 213.5ms inference, 1.2ms postprocess per image at shape (1, 3, 384, 640)\n",
            "\n",
            "0: 384x640 3 chickens, 213.2ms\n",
            "Speed: 7.8ms preprocess, 213.2ms inference, 1.3ms postprocess per image at shape (1, 3, 384, 640)\n",
            "\n",
            "0: 384x640 4 chickens, 215.7ms\n",
            "Speed: 8.4ms preprocess, 215.7ms inference, 1.2ms postprocess per image at shape (1, 3, 384, 640)\n",
            "\n",
            "0: 384x640 4 chickens, 208.8ms\n",
            "Speed: 4.3ms preprocess, 208.8ms inference, 1.4ms postprocess per image at shape (1, 3, 384, 640)\n",
            "\n",
            "0: 384x640 4 chickens, 238.5ms\n",
            "Speed: 4.3ms preprocess, 238.5ms inference, 1.4ms postprocess per image at shape (1, 3, 384, 640)\n",
            "\n",
            "0: 384x640 4 chickens, 231.1ms\n",
            "Speed: 5.4ms preprocess, 231.1ms inference, 3.5ms postprocess per image at shape (1, 3, 384, 640)\n",
            "\n",
            "0: 384x640 4 chickens, 220.9ms\n",
            "Speed: 6.3ms preprocess, 220.9ms inference, 1.4ms postprocess per image at shape (1, 3, 384, 640)\n",
            "\n",
            "0: 384x640 5 chickens, 219.4ms\n",
            "Speed: 4.2ms preprocess, 219.4ms inference, 1.5ms postprocess per image at shape (1, 3, 384, 640)\n",
            "\n",
            "0: 384x640 4 chickens, 225.5ms\n",
            "Speed: 4.3ms preprocess, 225.5ms inference, 1.6ms postprocess per image at shape (1, 3, 384, 640)\n",
            "\n",
            "0: 384x640 4 chickens, 247.6ms\n",
            "Speed: 4.1ms preprocess, 247.6ms inference, 1.4ms postprocess per image at shape (1, 3, 384, 640)\n",
            "\n",
            "0: 384x640 4 chickens, 236.1ms\n",
            "Speed: 7.6ms preprocess, 236.1ms inference, 1.5ms postprocess per image at shape (1, 3, 384, 640)\n",
            "\n",
            "0: 384x640 4 chickens, 220.0ms\n",
            "Speed: 5.4ms preprocess, 220.0ms inference, 1.3ms postprocess per image at shape (1, 3, 384, 640)\n",
            "\n",
            "0: 384x640 4 chickens, 225.5ms\n",
            "Speed: 4.2ms preprocess, 225.5ms inference, 1.4ms postprocess per image at shape (1, 3, 384, 640)\n",
            "\n",
            "0: 384x640 4 chickens, 178.3ms\n",
            "Speed: 6.4ms preprocess, 178.3ms inference, 1.0ms postprocess per image at shape (1, 3, 384, 640)\n",
            "\n",
            "0: 384x640 4 chickens, 133.8ms\n",
            "Speed: 4.1ms preprocess, 133.8ms inference, 1.1ms postprocess per image at shape (1, 3, 384, 640)\n",
            "\n",
            "0: 384x640 4 chickens, 141.5ms\n",
            "Speed: 4.2ms preprocess, 141.5ms inference, 1.0ms postprocess per image at shape (1, 3, 384, 640)\n",
            "\n",
            "0: 384x640 4 chickens, 152.3ms\n",
            "Speed: 8.1ms preprocess, 152.3ms inference, 1.0ms postprocess per image at shape (1, 3, 384, 640)\n",
            "\n",
            "0: 384x640 3 chickens, 140.9ms\n",
            "Speed: 4.9ms preprocess, 140.9ms inference, 1.0ms postprocess per image at shape (1, 3, 384, 640)\n",
            "\n",
            "0: 384x640 3 chickens, 151.6ms\n",
            "Speed: 4.0ms preprocess, 151.6ms inference, 1.5ms postprocess per image at shape (1, 3, 384, 640)\n",
            "\n",
            "0: 384x640 4 chickens, 144.9ms\n",
            "Speed: 5.5ms preprocess, 144.9ms inference, 1.0ms postprocess per image at shape (1, 3, 384, 640)\n",
            "\n",
            "0: 384x640 4 chickens, 141.4ms\n",
            "Speed: 3.5ms preprocess, 141.4ms inference, 1.0ms postprocess per image at shape (1, 3, 384, 640)\n",
            "\n",
            "0: 384x640 4 chickens, 158.7ms\n",
            "Speed: 3.4ms preprocess, 158.7ms inference, 1.5ms postprocess per image at shape (1, 3, 384, 640)\n",
            "\n",
            "0: 384x640 4 chickens, 136.9ms\n",
            "Speed: 7.8ms preprocess, 136.9ms inference, 1.0ms postprocess per image at shape (1, 3, 384, 640)\n",
            "\n",
            "0: 384x640 5 chickens, 135.8ms\n",
            "Speed: 4.1ms preprocess, 135.8ms inference, 1.0ms postprocess per image at shape (1, 3, 384, 640)\n",
            "\n",
            "0: 384x640 5 chickens, 148.6ms\n",
            "Speed: 4.1ms preprocess, 148.6ms inference, 1.0ms postprocess per image at shape (1, 3, 384, 640)\n",
            "\n",
            "0: 384x640 5 chickens, 175.8ms\n",
            "Speed: 5.1ms preprocess, 175.8ms inference, 1.0ms postprocess per image at shape (1, 3, 384, 640)\n",
            "\n",
            "0: 384x640 5 chickens, 155.4ms\n",
            "Speed: 3.5ms preprocess, 155.4ms inference, 1.0ms postprocess per image at shape (1, 3, 384, 640)\n",
            "\n",
            "0: 384x640 5 chickens, 159.3ms\n",
            "Speed: 4.3ms preprocess, 159.3ms inference, 1.0ms postprocess per image at shape (1, 3, 384, 640)\n",
            "\n",
            "0: 384x640 5 chickens, 143.0ms\n",
            "Speed: 4.9ms preprocess, 143.0ms inference, 1.0ms postprocess per image at shape (1, 3, 384, 640)\n",
            "\n",
            "0: 384x640 5 chickens, 154.5ms\n",
            "Speed: 3.5ms preprocess, 154.5ms inference, 1.3ms postprocess per image at shape (1, 3, 384, 640)\n",
            "\n",
            "0: 384x640 5 chickens, 137.7ms\n",
            "Speed: 6.4ms preprocess, 137.7ms inference, 1.0ms postprocess per image at shape (1, 3, 384, 640)\n",
            "\n",
            "0: 384x640 4 chickens, 150.8ms\n",
            "Speed: 4.3ms preprocess, 150.8ms inference, 1.3ms postprocess per image at shape (1, 3, 384, 640)\n",
            "\n",
            "0: 384x640 4 chickens, 148.6ms\n",
            "Speed: 4.3ms preprocess, 148.6ms inference, 1.6ms postprocess per image at shape (1, 3, 384, 640)\n",
            "\n",
            "0: 384x640 4 chickens, 138.6ms\n",
            "Speed: 4.2ms preprocess, 138.6ms inference, 1.2ms postprocess per image at shape (1, 3, 384, 640)\n",
            "\n",
            "0: 384x640 5 chickens, 136.9ms\n",
            "Speed: 5.1ms preprocess, 136.9ms inference, 1.0ms postprocess per image at shape (1, 3, 384, 640)\n",
            "\n",
            "0: 384x640 4 chickens, 141.8ms\n",
            "Speed: 4.3ms preprocess, 141.8ms inference, 1.0ms postprocess per image at shape (1, 3, 384, 640)\n",
            "\n",
            "0: 384x640 4 chickens, 144.0ms\n",
            "Speed: 4.2ms preprocess, 144.0ms inference, 1.2ms postprocess per image at shape (1, 3, 384, 640)\n",
            "\n",
            "0: 384x640 4 chickens, 156.6ms\n",
            "Speed: 6.6ms preprocess, 156.6ms inference, 1.4ms postprocess per image at shape (1, 3, 384, 640)\n",
            "\n",
            "0: 384x640 5 chickens, 132.9ms\n",
            "Speed: 4.4ms preprocess, 132.9ms inference, 1.7ms postprocess per image at shape (1, 3, 384, 640)\n",
            "\n",
            "0: 384x640 5 chickens, 133.7ms\n",
            "Speed: 4.0ms preprocess, 133.7ms inference, 1.0ms postprocess per image at shape (1, 3, 384, 640)\n",
            "\n",
            "0: 384x640 5 chickens, 156.9ms\n",
            "Speed: 4.2ms preprocess, 156.9ms inference, 1.0ms postprocess per image at shape (1, 3, 384, 640)\n",
            "\n",
            "0: 384x640 5 chickens, 143.6ms\n",
            "Speed: 4.1ms preprocess, 143.6ms inference, 1.2ms postprocess per image at shape (1, 3, 384, 640)\n",
            "\n",
            "0: 384x640 4 chickens, 150.5ms\n",
            "Speed: 3.1ms preprocess, 150.5ms inference, 1.0ms postprocess per image at shape (1, 3, 384, 640)\n",
            "\n",
            "0: 384x640 4 chickens, 144.7ms\n",
            "Speed: 4.3ms preprocess, 144.7ms inference, 1.0ms postprocess per image at shape (1, 3, 384, 640)\n",
            "\n",
            "0: 384x640 4 chickens, 136.3ms\n",
            "Speed: 4.0ms preprocess, 136.3ms inference, 1.0ms postprocess per image at shape (1, 3, 384, 640)\n",
            "\n",
            "0: 384x640 4 chickens, 135.8ms\n",
            "Speed: 4.0ms preprocess, 135.8ms inference, 1.0ms postprocess per image at shape (1, 3, 384, 640)\n",
            "\n",
            "0: 384x640 4 chickens, 154.3ms\n",
            "Speed: 4.2ms preprocess, 154.3ms inference, 1.2ms postprocess per image at shape (1, 3, 384, 640)\n",
            "\n",
            "0: 384x640 4 chickens, 144.8ms\n",
            "Speed: 4.5ms preprocess, 144.8ms inference, 1.3ms postprocess per image at shape (1, 3, 384, 640)\n",
            "\n",
            "0: 384x640 5 chickens, 140.9ms\n",
            "Speed: 7.0ms preprocess, 140.9ms inference, 1.0ms postprocess per image at shape (1, 3, 384, 640)\n",
            "\n",
            "0: 384x640 5 chickens, 144.1ms\n",
            "Speed: 4.7ms preprocess, 144.1ms inference, 1.0ms postprocess per image at shape (1, 3, 384, 640)\n",
            "\n",
            "0: 384x640 4 chickens, 137.4ms\n",
            "Speed: 4.0ms preprocess, 137.4ms inference, 1.0ms postprocess per image at shape (1, 3, 384, 640)\n",
            "\n",
            "0: 384x640 4 chickens, 148.3ms\n",
            "Speed: 4.4ms preprocess, 148.3ms inference, 1.5ms postprocess per image at shape (1, 3, 384, 640)\n",
            "\n",
            "0: 384x640 4 chickens, 140.8ms\n",
            "Speed: 4.0ms preprocess, 140.8ms inference, 1.0ms postprocess per image at shape (1, 3, 384, 640)\n",
            "\n",
            "0: 384x640 4 chickens, 151.9ms\n",
            "Speed: 4.7ms preprocess, 151.9ms inference, 1.1ms postprocess per image at shape (1, 3, 384, 640)\n",
            "\n",
            "0: 384x640 4 chickens, 137.8ms\n",
            "Speed: 4.7ms preprocess, 137.8ms inference, 1.0ms postprocess per image at shape (1, 3, 384, 640)\n",
            "\n",
            "0: 384x640 4 chickens, 140.0ms\n",
            "Speed: 4.9ms preprocess, 140.0ms inference, 1.0ms postprocess per image at shape (1, 3, 384, 640)\n",
            "\n",
            "0: 384x640 5 chickens, 139.0ms\n",
            "Speed: 3.1ms preprocess, 139.0ms inference, 1.0ms postprocess per image at shape (1, 3, 384, 640)\n",
            "\n",
            "0: 384x640 5 chickens, 154.2ms\n",
            "Speed: 4.3ms preprocess, 154.2ms inference, 1.0ms postprocess per image at shape (1, 3, 384, 640)\n",
            "\n",
            "0: 384x640 4 chickens, 151.8ms\n",
            "Speed: 4.8ms preprocess, 151.8ms inference, 1.5ms postprocess per image at shape (1, 3, 384, 640)\n",
            "\n",
            "0: 384x640 5 chickens, 141.1ms\n",
            "Speed: 4.4ms preprocess, 141.1ms inference, 1.0ms postprocess per image at shape (1, 3, 384, 640)\n",
            "\n",
            "0: 384x640 6 chickens, 137.5ms\n",
            "Speed: 4.2ms preprocess, 137.5ms inference, 1.1ms postprocess per image at shape (1, 3, 384, 640)\n",
            "\n",
            "0: 384x640 5 chickens, 138.1ms\n",
            "Speed: 4.4ms preprocess, 138.1ms inference, 1.1ms postprocess per image at shape (1, 3, 384, 640)\n",
            "\n",
            "0: 384x640 6 chickens, 153.4ms\n",
            "Speed: 4.8ms preprocess, 153.4ms inference, 1.8ms postprocess per image at shape (1, 3, 384, 640)\n",
            "\n",
            "0: 384x640 5 chickens, 139.5ms\n",
            "Speed: 5.0ms preprocess, 139.5ms inference, 1.4ms postprocess per image at shape (1, 3, 384, 640)\n",
            "\n",
            "0: 384x640 5 chickens, 154.6ms\n",
            "Speed: 4.4ms preprocess, 154.6ms inference, 1.4ms postprocess per image at shape (1, 3, 384, 640)\n",
            "\n",
            "0: 384x640 5 chickens, 134.4ms\n",
            "Speed: 4.1ms preprocess, 134.4ms inference, 1.0ms postprocess per image at shape (1, 3, 384, 640)\n",
            "\n",
            "0: 384x640 6 chickens, 183.5ms\n",
            "Speed: 3.6ms preprocess, 183.5ms inference, 1.1ms postprocess per image at shape (1, 3, 384, 640)\n",
            "\n",
            "0: 384x640 6 chickens, 225.4ms\n",
            "Speed: 7.9ms preprocess, 225.4ms inference, 1.3ms postprocess per image at shape (1, 3, 384, 640)\n",
            "\n",
            "0: 384x640 6 chickens, 214.8ms\n",
            "Speed: 6.2ms preprocess, 214.8ms inference, 1.3ms postprocess per image at shape (1, 3, 384, 640)\n",
            "\n",
            "0: 384x640 7 chickens, 209.0ms\n",
            "Speed: 4.4ms preprocess, 209.0ms inference, 1.3ms postprocess per image at shape (1, 3, 384, 640)\n",
            "\n",
            "0: 384x640 7 chickens, 214.9ms\n",
            "Speed: 7.4ms preprocess, 214.9ms inference, 1.3ms postprocess per image at shape (1, 3, 384, 640)\n",
            "\n",
            "0: 384x640 5 chickens, 221.4ms\n",
            "Speed: 4.4ms preprocess, 221.4ms inference, 1.4ms postprocess per image at shape (1, 3, 384, 640)\n",
            "\n",
            "0: 384x640 5 chickens, 213.6ms\n",
            "Speed: 6.4ms preprocess, 213.6ms inference, 1.4ms postprocess per image at shape (1, 3, 384, 640)\n",
            "\n",
            "0: 384x640 5 chickens, 216.0ms\n",
            "Speed: 4.4ms preprocess, 216.0ms inference, 1.2ms postprocess per image at shape (1, 3, 384, 640)\n",
            "\n",
            "0: 384x640 3 chickens, 213.1ms\n",
            "Speed: 4.4ms preprocess, 213.1ms inference, 1.2ms postprocess per image at shape (1, 3, 384, 640)\n",
            "\n",
            "0: 384x640 4 chickens, 230.9ms\n",
            "Speed: 4.3ms preprocess, 230.9ms inference, 1.2ms postprocess per image at shape (1, 3, 384, 640)\n",
            "\n",
            "0: 384x640 4 chickens, 215.1ms\n",
            "Speed: 6.7ms preprocess, 215.1ms inference, 1.5ms postprocess per image at shape (1, 3, 384, 640)\n",
            "\n",
            "0: 384x640 4 chickens, 214.1ms\n",
            "Speed: 4.2ms preprocess, 214.1ms inference, 1.4ms postprocess per image at shape (1, 3, 384, 640)\n",
            "\n",
            "0: 384x640 4 chickens, 212.0ms\n",
            "Speed: 6.0ms preprocess, 212.0ms inference, 1.4ms postprocess per image at shape (1, 3, 384, 640)\n",
            "\n",
            "0: 384x640 4 chickens, 248.1ms\n",
            "Speed: 6.2ms preprocess, 248.1ms inference, 1.4ms postprocess per image at shape (1, 3, 384, 640)\n",
            "\n",
            "0: 384x640 5 chickens, 217.6ms\n",
            "Speed: 4.2ms preprocess, 217.6ms inference, 1.4ms postprocess per image at shape (1, 3, 384, 640)\n",
            "\n",
            "0: 384x640 5 chickens, 234.6ms\n",
            "Speed: 4.2ms preprocess, 234.6ms inference, 1.7ms postprocess per image at shape (1, 3, 384, 640)\n",
            "\n",
            "0: 384x640 5 chickens, 269.8ms\n",
            "Speed: 6.8ms preprocess, 269.8ms inference, 1.4ms postprocess per image at shape (1, 3, 384, 640)\n",
            "\n",
            "0: 384x640 6 chickens, 219.2ms\n",
            "Speed: 6.4ms preprocess, 219.2ms inference, 1.0ms postprocess per image at shape (1, 3, 384, 640)\n",
            "\n",
            "0: 384x640 6 chickens, 138.5ms\n",
            "Speed: 3.7ms preprocess, 138.5ms inference, 1.0ms postprocess per image at shape (1, 3, 384, 640)\n",
            "\n",
            "0: 384x640 4 chickens, 147.1ms\n",
            "Speed: 4.2ms preprocess, 147.1ms inference, 1.0ms postprocess per image at shape (1, 3, 384, 640)\n",
            "\n",
            "0: 384x640 5 chickens, 145.0ms\n",
            "Speed: 4.9ms preprocess, 145.0ms inference, 1.7ms postprocess per image at shape (1, 3, 384, 640)\n",
            "\n",
            "0: 384x640 4 chickens, 153.7ms\n",
            "Speed: 4.9ms preprocess, 153.7ms inference, 1.2ms postprocess per image at shape (1, 3, 384, 640)\n",
            "\n",
            "0: 384x640 4 chickens, 137.0ms\n",
            "Speed: 4.1ms preprocess, 137.0ms inference, 1.0ms postprocess per image at shape (1, 3, 384, 640)\n",
            "\n",
            "0: 384x640 4 chickens, 134.6ms\n",
            "Speed: 5.1ms preprocess, 134.6ms inference, 1.0ms postprocess per image at shape (1, 3, 384, 640)\n",
            "\n",
            "0: 384x640 4 chickens, 140.8ms\n",
            "Speed: 3.1ms preprocess, 140.8ms inference, 1.0ms postprocess per image at shape (1, 3, 384, 640)\n",
            "\n",
            "0: 384x640 4 chickens, 137.3ms\n",
            "Speed: 4.3ms preprocess, 137.3ms inference, 1.0ms postprocess per image at shape (1, 3, 384, 640)\n",
            "\n",
            "0: 384x640 4 chickens, 156.6ms\n",
            "Speed: 4.2ms preprocess, 156.6ms inference, 1.2ms postprocess per image at shape (1, 3, 384, 640)\n",
            "\n",
            "0: 384x640 4 chickens, 150.5ms\n",
            "Speed: 7.0ms preprocess, 150.5ms inference, 1.0ms postprocess per image at shape (1, 3, 384, 640)\n",
            "\n",
            "0: 384x640 4 chickens, 135.0ms\n",
            "Speed: 7.8ms preprocess, 135.0ms inference, 1.0ms postprocess per image at shape (1, 3, 384, 640)\n",
            "\n",
            "0: 384x640 5 chickens, 134.5ms\n",
            "Speed: 3.9ms preprocess, 134.5ms inference, 1.0ms postprocess per image at shape (1, 3, 384, 640)\n",
            "\n",
            "0: 384x640 4 chickens, 138.2ms\n",
            "Speed: 5.0ms preprocess, 138.2ms inference, 1.1ms postprocess per image at shape (1, 3, 384, 640)\n",
            "\n",
            "0: 384x640 4 chickens, 171.6ms\n",
            "Speed: 4.4ms preprocess, 171.6ms inference, 1.1ms postprocess per image at shape (1, 3, 384, 640)\n",
            "\n",
            "0: 384x640 5 chickens, 154.3ms\n",
            "Speed: 3.4ms preprocess, 154.3ms inference, 1.0ms postprocess per image at shape (1, 3, 384, 640)\n",
            "\n",
            "0: 384x640 4 chickens, 138.2ms\n",
            "Speed: 4.0ms preprocess, 138.2ms inference, 1.0ms postprocess per image at shape (1, 3, 384, 640)\n",
            "\n",
            "0: 384x640 5 chickens, 139.7ms\n",
            "Speed: 5.3ms preprocess, 139.7ms inference, 1.3ms postprocess per image at shape (1, 3, 384, 640)\n",
            "\n",
            "0: 384x640 5 chickens, 142.3ms\n",
            "Speed: 4.0ms preprocess, 142.3ms inference, 1.1ms postprocess per image at shape (1, 3, 384, 640)\n",
            "\n",
            "0: 384x640 5 chickens, 173.1ms\n",
            "Speed: 4.4ms preprocess, 173.1ms inference, 1.1ms postprocess per image at shape (1, 3, 384, 640)\n",
            "\n",
            "0: 384x640 5 chickens, 138.4ms\n",
            "Speed: 4.1ms preprocess, 138.4ms inference, 1.0ms postprocess per image at shape (1, 3, 384, 640)\n",
            "\n",
            "0: 384x640 6 chickens, 151.5ms\n",
            "Speed: 4.8ms preprocess, 151.5ms inference, 1.0ms postprocess per image at shape (1, 3, 384, 640)\n",
            "\n",
            "0: 384x640 5 chickens, 137.9ms\n",
            "Speed: 4.2ms preprocess, 137.9ms inference, 1.0ms postprocess per image at shape (1, 3, 384, 640)\n",
            "\n",
            "0: 384x640 5 chickens, 147.9ms\n",
            "Speed: 4.4ms preprocess, 147.9ms inference, 1.0ms postprocess per image at shape (1, 3, 384, 640)\n",
            "\n",
            "0: 384x640 4 chickens, 136.8ms\n",
            "Speed: 4.7ms preprocess, 136.8ms inference, 1.5ms postprocess per image at shape (1, 3, 384, 640)\n",
            "\n",
            "0: 384x640 4 chickens, 154.1ms\n",
            "Speed: 5.2ms preprocess, 154.1ms inference, 1.8ms postprocess per image at shape (1, 3, 384, 640)\n",
            "\n",
            "0: 384x640 5 chickens, 158.9ms\n",
            "Speed: 4.9ms preprocess, 158.9ms inference, 1.0ms postprocess per image at shape (1, 3, 384, 640)\n",
            "\n",
            "0: 384x640 6 chickens, 132.6ms\n",
            "Speed: 3.2ms preprocess, 132.6ms inference, 1.1ms postprocess per image at shape (1, 3, 384, 640)\n",
            "\n",
            "0: 384x640 4 chickens, 143.9ms\n",
            "Speed: 4.9ms preprocess, 143.9ms inference, 1.5ms postprocess per image at shape (1, 3, 384, 640)\n",
            "\n",
            "0: 384x640 5 chickens, 141.7ms\n",
            "Speed: 4.7ms preprocess, 141.7ms inference, 1.0ms postprocess per image at shape (1, 3, 384, 640)\n",
            "\n",
            "0: 384x640 3 chickens, 163.8ms\n",
            "Speed: 3.4ms preprocess, 163.8ms inference, 1.0ms postprocess per image at shape (1, 3, 384, 640)\n",
            "\n",
            "0: 384x640 3 chickens, 142.5ms\n",
            "Speed: 5.1ms preprocess, 142.5ms inference, 1.0ms postprocess per image at shape (1, 3, 384, 640)\n",
            "\n",
            "0: 384x640 4 chickens, 160.1ms\n",
            "Speed: 6.0ms preprocess, 160.1ms inference, 1.1ms postprocess per image at shape (1, 3, 384, 640)\n",
            "\n",
            "0: 384x640 6 chickens, 133.9ms\n",
            "Speed: 5.4ms preprocess, 133.9ms inference, 1.0ms postprocess per image at shape (1, 3, 384, 640)\n",
            "\n",
            "0: 384x640 5 chickens, 150.3ms\n",
            "Speed: 5.2ms preprocess, 150.3ms inference, 1.0ms postprocess per image at shape (1, 3, 384, 640)\n",
            "\n",
            "0: 384x640 4 chickens, 212.9ms\n",
            "Speed: 3.1ms preprocess, 212.9ms inference, 1.5ms postprocess per image at shape (1, 3, 384, 640)\n",
            "\n",
            "0: 384x640 4 chickens, 218.8ms\n",
            "Speed: 4.5ms preprocess, 218.8ms inference, 1.5ms postprocess per image at shape (1, 3, 384, 640)\n",
            "\n",
            "0: 384x640 4 chickens, 204.2ms\n",
            "Speed: 7.9ms preprocess, 204.2ms inference, 1.2ms postprocess per image at shape (1, 3, 384, 640)\n",
            "\n",
            "0: 384x640 3 chickens, 227.5ms\n",
            "Speed: 4.5ms preprocess, 227.5ms inference, 1.7ms postprocess per image at shape (1, 3, 384, 640)\n",
            "\n",
            "0: 384x640 4 chickens, 216.4ms\n",
            "Speed: 4.3ms preprocess, 216.4ms inference, 1.2ms postprocess per image at shape (1, 3, 384, 640)\n",
            "\n",
            "0: 384x640 3 chickens, 223.0ms\n",
            "Speed: 4.7ms preprocess, 223.0ms inference, 1.2ms postprocess per image at shape (1, 3, 384, 640)\n",
            "\n",
            "0: 384x640 4 chickens, 217.6ms\n",
            "Speed: 4.2ms preprocess, 217.6ms inference, 1.3ms postprocess per image at shape (1, 3, 384, 640)\n",
            "\n",
            "0: 384x640 4 chickens, 215.1ms\n",
            "Speed: 4.3ms preprocess, 215.1ms inference, 1.3ms postprocess per image at shape (1, 3, 384, 640)\n",
            "\n",
            "0: 384x640 4 chickens, 219.4ms\n",
            "Speed: 4.5ms preprocess, 219.4ms inference, 1.3ms postprocess per image at shape (1, 3, 384, 640)\n",
            "\n",
            "0: 384x640 3 chickens, 217.7ms\n",
            "Speed: 4.2ms preprocess, 217.7ms inference, 1.2ms postprocess per image at shape (1, 3, 384, 640)\n",
            "\n",
            "0: 384x640 4 chickens, 219.8ms\n",
            "Speed: 4.4ms preprocess, 219.8ms inference, 1.8ms postprocess per image at shape (1, 3, 384, 640)\n",
            "\n",
            "0: 384x640 4 chickens, 231.5ms\n",
            "Speed: 7.1ms preprocess, 231.5ms inference, 1.4ms postprocess per image at shape (1, 3, 384, 640)\n",
            "\n",
            "0: 384x640 3 chickens, 235.8ms\n",
            "Speed: 6.8ms preprocess, 235.8ms inference, 1.3ms postprocess per image at shape (1, 3, 384, 640)\n",
            "\n",
            "0: 384x640 4 chickens, 282.6ms\n",
            "Speed: 7.2ms preprocess, 282.6ms inference, 1.7ms postprocess per image at shape (1, 3, 384, 640)\n",
            "\n",
            "0: 384x640 4 chickens, 264.3ms\n",
            "Speed: 5.3ms preprocess, 264.3ms inference, 1.5ms postprocess per image at shape (1, 3, 384, 640)\n",
            "\n",
            "0: 384x640 3 chickens, 238.4ms\n",
            "Speed: 9.7ms preprocess, 238.4ms inference, 1.3ms postprocess per image at shape (1, 3, 384, 640)\n",
            "\n",
            "0: 384x640 3 chickens, 239.1ms\n",
            "Speed: 4.2ms preprocess, 239.1ms inference, 1.3ms postprocess per image at shape (1, 3, 384, 640)\n",
            "\n",
            "0: 384x640 3 chickens, 253.5ms\n",
            "Speed: 12.0ms preprocess, 253.5ms inference, 1.3ms postprocess per image at shape (1, 3, 384, 640)\n",
            "\n",
            "0: 384x640 3 chickens, 239.0ms\n",
            "Speed: 4.2ms preprocess, 239.0ms inference, 1.3ms postprocess per image at shape (1, 3, 384, 640)\n",
            "\n",
            "0: 384x640 3 chickens, 243.9ms\n",
            "Speed: 4.3ms preprocess, 243.9ms inference, 1.3ms postprocess per image at shape (1, 3, 384, 640)\n",
            "\n",
            "0: 384x640 3 chickens, 235.2ms\n",
            "Speed: 4.0ms preprocess, 235.2ms inference, 1.3ms postprocess per image at shape (1, 3, 384, 640)\n",
            "\n",
            "0: 384x640 2 chickens, 290.5ms\n",
            "Speed: 4.4ms preprocess, 290.5ms inference, 1.3ms postprocess per image at shape (1, 3, 384, 640)\n",
            "\n",
            "0: 384x640 4 chickens, 284.0ms\n",
            "Speed: 4.7ms preprocess, 284.0ms inference, 1.3ms postprocess per image at shape (1, 3, 384, 640)\n",
            "\n",
            "0: 384x640 4 chickens, 295.1ms\n",
            "Speed: 4.3ms preprocess, 295.1ms inference, 1.6ms postprocess per image at shape (1, 3, 384, 640)\n",
            "\n",
            "0: 384x640 4 chickens, 216.9ms\n",
            "Speed: 4.5ms preprocess, 216.9ms inference, 1.3ms postprocess per image at shape (1, 3, 384, 640)\n",
            "\n",
            "0: 384x640 4 chickens, 209.7ms\n",
            "Speed: 4.9ms preprocess, 209.7ms inference, 1.2ms postprocess per image at shape (1, 3, 384, 640)\n",
            "\n",
            "0: 384x640 3 chickens, 209.9ms\n",
            "Speed: 7.2ms preprocess, 209.9ms inference, 5.9ms postprocess per image at shape (1, 3, 384, 640)\n",
            "\n",
            "0: 384x640 3 chickens, 251.6ms\n",
            "Speed: 4.5ms preprocess, 251.6ms inference, 1.4ms postprocess per image at shape (1, 3, 384, 640)\n",
            "\n",
            "0: 384x640 3 chickens, 232.8ms\n",
            "Speed: 4.0ms preprocess, 232.8ms inference, 1.4ms postprocess per image at shape (1, 3, 384, 640)\n",
            "\n",
            "0: 384x640 4 chickens, 221.3ms\n",
            "Speed: 6.3ms preprocess, 221.3ms inference, 1.4ms postprocess per image at shape (1, 3, 384, 640)\n",
            "\n",
            "0: 384x640 5 chickens, 236.2ms\n",
            "Speed: 4.6ms preprocess, 236.2ms inference, 1.4ms postprocess per image at shape (1, 3, 384, 640)\n",
            "\n",
            "0: 384x640 5 chickens, 248.2ms\n",
            "Speed: 4.0ms preprocess, 248.2ms inference, 5.5ms postprocess per image at shape (1, 3, 384, 640)\n",
            "\n",
            "0: 384x640 4 chickens, 227.4ms\n",
            "Speed: 4.3ms preprocess, 227.4ms inference, 1.7ms postprocess per image at shape (1, 3, 384, 640)\n",
            "\n",
            "0: 384x640 4 chickens, 238.4ms\n",
            "Speed: 7.2ms preprocess, 238.4ms inference, 1.4ms postprocess per image at shape (1, 3, 384, 640)\n",
            "\n",
            "0: 384x640 4 chickens, 248.1ms\n",
            "Speed: 4.9ms preprocess, 248.1ms inference, 1.4ms postprocess per image at shape (1, 3, 384, 640)\n",
            "\n",
            "0: 384x640 4 chickens, 214.3ms\n",
            "Speed: 4.1ms preprocess, 214.3ms inference, 1.4ms postprocess per image at shape (1, 3, 384, 640)\n",
            "\n",
            "0: 384x640 3 chickens, 221.8ms\n",
            "Speed: 4.2ms preprocess, 221.8ms inference, 1.0ms postprocess per image at shape (1, 3, 384, 640)\n",
            "\n",
            "0: 384x640 3 chickens, 155.8ms\n",
            "Speed: 4.8ms preprocess, 155.8ms inference, 1.0ms postprocess per image at shape (1, 3, 384, 640)\n",
            "\n",
            "0: 384x640 4 chickens, 162.0ms\n",
            "Speed: 4.7ms preprocess, 162.0ms inference, 1.0ms postprocess per image at shape (1, 3, 384, 640)\n",
            "\n",
            "0: 384x640 4 chickens, 142.2ms\n",
            "Speed: 5.0ms preprocess, 142.2ms inference, 1.3ms postprocess per image at shape (1, 3, 384, 640)\n",
            "\n",
            "0: 384x640 4 chickens, 137.8ms\n",
            "Speed: 3.2ms preprocess, 137.8ms inference, 1.0ms postprocess per image at shape (1, 3, 384, 640)\n",
            "\n",
            "0: 384x640 3 chickens, 140.7ms\n",
            "Speed: 7.0ms preprocess, 140.7ms inference, 1.0ms postprocess per image at shape (1, 3, 384, 640)\n",
            "\n",
            "0: 384x640 3 chickens, 155.0ms\n",
            "Speed: 4.3ms preprocess, 155.0ms inference, 1.0ms postprocess per image at shape (1, 3, 384, 640)\n",
            "\n",
            "0: 384x640 3 chickens, 143.8ms\n",
            "Speed: 4.5ms preprocess, 143.8ms inference, 1.0ms postprocess per image at shape (1, 3, 384, 640)\n",
            "\n",
            "0: 384x640 3 chickens, 140.2ms\n",
            "Speed: 5.3ms preprocess, 140.2ms inference, 1.0ms postprocess per image at shape (1, 3, 384, 640)\n",
            "\n",
            "0: 384x640 4 chickens, 139.8ms\n",
            "Speed: 4.9ms preprocess, 139.8ms inference, 1.1ms postprocess per image at shape (1, 3, 384, 640)\n",
            "\n",
            "0: 384x640 4 chickens, 141.2ms\n",
            "Speed: 5.1ms preprocess, 141.2ms inference, 1.0ms postprocess per image at shape (1, 3, 384, 640)\n",
            "\n",
            "0: 384x640 4 chickens, 150.6ms\n",
            "Speed: 4.9ms preprocess, 150.6ms inference, 1.3ms postprocess per image at shape (1, 3, 384, 640)\n",
            "\n",
            "0: 384x640 3 chickens, 139.8ms\n",
            "Speed: 8.5ms preprocess, 139.8ms inference, 1.0ms postprocess per image at shape (1, 3, 384, 640)\n",
            "\n",
            "0: 384x640 3 chickens, 148.6ms\n",
            "Speed: 4.2ms preprocess, 148.6ms inference, 1.0ms postprocess per image at shape (1, 3, 384, 640)\n",
            "\n",
            "0: 384x640 4 chickens, 132.2ms\n",
            "Speed: 3.2ms preprocess, 132.2ms inference, 1.0ms postprocess per image at shape (1, 3, 384, 640)\n",
            "\n",
            "0: 384x640 3 chickens, 142.2ms\n",
            "Speed: 7.4ms preprocess, 142.2ms inference, 1.2ms postprocess per image at shape (1, 3, 384, 640)\n",
            "\n",
            "0: 384x640 3 chickens, 145.4ms\n",
            "Speed: 4.7ms preprocess, 145.4ms inference, 1.0ms postprocess per image at shape (1, 3, 384, 640)\n",
            "\n",
            "0: 384x640 4 chickens, 149.7ms\n",
            "Speed: 12.0ms preprocess, 149.7ms inference, 1.0ms postprocess per image at shape (1, 3, 384, 640)\n",
            "\n",
            "0: 384x640 3 chickens, 148.5ms\n",
            "Speed: 4.1ms preprocess, 148.5ms inference, 1.0ms postprocess per image at shape (1, 3, 384, 640)\n",
            "\n",
            "0: 384x640 3 chickens, 138.7ms\n",
            "Speed: 9.6ms preprocess, 138.7ms inference, 1.0ms postprocess per image at shape (1, 3, 384, 640)\n",
            "\n",
            "0: 384x640 3 chickens, 144.6ms\n",
            "Speed: 4.9ms preprocess, 144.6ms inference, 1.1ms postprocess per image at shape (1, 3, 384, 640)\n",
            "\n",
            "0: 384x640 3 chickens, 139.9ms\n",
            "Speed: 4.2ms preprocess, 139.9ms inference, 1.4ms postprocess per image at shape (1, 3, 384, 640)\n",
            "\n",
            "0: 384x640 3 chickens, 154.2ms\n",
            "Speed: 3.2ms preprocess, 154.2ms inference, 1.0ms postprocess per image at shape (1, 3, 384, 640)\n",
            "\n",
            "0: 384x640 3 chickens, 157.3ms\n",
            "Speed: 4.6ms preprocess, 157.3ms inference, 1.5ms postprocess per image at shape (1, 3, 384, 640)\n",
            "\n",
            "0: 384x640 3 chickens, 153.3ms\n",
            "Speed: 4.2ms preprocess, 153.3ms inference, 1.0ms postprocess per image at shape (1, 3, 384, 640)\n",
            "\n",
            "0: 384x640 3 chickens, 143.0ms\n",
            "Speed: 4.1ms preprocess, 143.0ms inference, 1.3ms postprocess per image at shape (1, 3, 384, 640)\n",
            "\n",
            "0: 384x640 3 chickens, 139.2ms\n",
            "Speed: 4.8ms preprocess, 139.2ms inference, 1.0ms postprocess per image at shape (1, 3, 384, 640)\n",
            "\n",
            "0: 384x640 3 chickens, 166.3ms\n",
            "Speed: 4.1ms preprocess, 166.3ms inference, 1.1ms postprocess per image at shape (1, 3, 384, 640)\n",
            "\n",
            "0: 384x640 3 chickens, 140.8ms\n",
            "Speed: 4.5ms preprocess, 140.8ms inference, 1.0ms postprocess per image at shape (1, 3, 384, 640)\n",
            "\n",
            "0: 384x640 3 chickens, 135.4ms\n",
            "Speed: 5.6ms preprocess, 135.4ms inference, 1.0ms postprocess per image at shape (1, 3, 384, 640)\n",
            "\n",
            "0: 384x640 3 chickens, 133.7ms\n",
            "Speed: 5.8ms preprocess, 133.7ms inference, 1.4ms postprocess per image at shape (1, 3, 384, 640)\n",
            "\n",
            "0: 384x640 3 chickens, 135.6ms\n",
            "Speed: 5.1ms preprocess, 135.6ms inference, 1.0ms postprocess per image at shape (1, 3, 384, 640)\n",
            "\n",
            "0: 384x640 3 chickens, 137.1ms\n",
            "Speed: 4.4ms preprocess, 137.1ms inference, 1.0ms postprocess per image at shape (1, 3, 384, 640)\n",
            "\n",
            "0: 384x640 4 chickens, 173.3ms\n",
            "Speed: 8.4ms preprocess, 173.3ms inference, 1.0ms postprocess per image at shape (1, 3, 384, 640)\n",
            "\n",
            "0: 384x640 3 chickens, 136.4ms\n",
            "Speed: 4.4ms preprocess, 136.4ms inference, 1.0ms postprocess per image at shape (1, 3, 384, 640)\n",
            "\n",
            "0: 384x640 4 chickens, 150.1ms\n",
            "Speed: 3.0ms preprocess, 150.1ms inference, 1.0ms postprocess per image at shape (1, 3, 384, 640)\n",
            "\n",
            "0: 384x640 4 chickens, 142.2ms\n",
            "Speed: 4.8ms preprocess, 142.2ms inference, 1.0ms postprocess per image at shape (1, 3, 384, 640)\n",
            "\n",
            "0: 384x640 4 chickens, 139.3ms\n",
            "Speed: 9.1ms preprocess, 139.3ms inference, 1.1ms postprocess per image at shape (1, 3, 384, 640)\n",
            "\n",
            "0: 384x640 4 chickens, 162.0ms\n",
            "Speed: 4.1ms preprocess, 162.0ms inference, 1.0ms postprocess per image at shape (1, 3, 384, 640)\n",
            "\n",
            "0: 384x640 4 chickens, 139.3ms\n",
            "Speed: 4.6ms preprocess, 139.3ms inference, 1.0ms postprocess per image at shape (1, 3, 384, 640)\n",
            "\n",
            "0: 384x640 4 chickens, 140.3ms\n",
            "Speed: 4.9ms preprocess, 140.3ms inference, 1.0ms postprocess per image at shape (1, 3, 384, 640)\n",
            "\n",
            "0: 384x640 4 chickens, 137.1ms\n",
            "Speed: 5.3ms preprocess, 137.1ms inference, 1.0ms postprocess per image at shape (1, 3, 384, 640)\n",
            "\n",
            "0: 384x640 4 chickens, 145.3ms\n",
            "Speed: 4.4ms preprocess, 145.3ms inference, 1.0ms postprocess per image at shape (1, 3, 384, 640)\n",
            "\n",
            "0: 384x640 3 chickens, 151.9ms\n",
            "Speed: 5.6ms preprocess, 151.9ms inference, 1.1ms postprocess per image at shape (1, 3, 384, 640)\n",
            "\n",
            "0: 384x640 3 chickens, 142.0ms\n",
            "Speed: 4.9ms preprocess, 142.0ms inference, 1.0ms postprocess per image at shape (1, 3, 384, 640)\n",
            "\n",
            "0: 384x640 4 chickens, 139.2ms\n",
            "Speed: 4.4ms preprocess, 139.2ms inference, 1.0ms postprocess per image at shape (1, 3, 384, 640)\n",
            "\n",
            "0: 384x640 4 chickens, 146.5ms\n",
            "Speed: 7.1ms preprocess, 146.5ms inference, 1.0ms postprocess per image at shape (1, 3, 384, 640)\n",
            "\n",
            "0: 384x640 4 chickens, 139.7ms\n",
            "Speed: 5.7ms preprocess, 139.7ms inference, 1.1ms postprocess per image at shape (1, 3, 384, 640)\n",
            "\n",
            "0: 384x640 3 chickens, 139.9ms\n",
            "Speed: 4.4ms preprocess, 139.9ms inference, 1.3ms postprocess per image at shape (1, 3, 384, 640)\n",
            "\n",
            "0: 384x640 4 chickens, 158.3ms\n",
            "Speed: 4.3ms preprocess, 158.3ms inference, 1.5ms postprocess per image at shape (1, 3, 384, 640)\n",
            "\n",
            "0: 384x640 4 chickens, 137.6ms\n",
            "Speed: 3.2ms preprocess, 137.6ms inference, 1.2ms postprocess per image at shape (1, 3, 384, 640)\n",
            "\n",
            "0: 384x640 4 chickens, 145.1ms\n",
            "Speed: 7.1ms preprocess, 145.1ms inference, 1.0ms postprocess per image at shape (1, 3, 384, 640)\n",
            "\n",
            "0: 384x640 4 chickens, 139.6ms\n",
            "Speed: 4.1ms preprocess, 139.6ms inference, 1.0ms postprocess per image at shape (1, 3, 384, 640)\n",
            "\n",
            "0: 384x640 3 chickens, 206.1ms\n",
            "Speed: 4.8ms preprocess, 206.1ms inference, 1.6ms postprocess per image at shape (1, 3, 384, 640)\n",
            "\n",
            "0: 384x640 4 chickens, 223.0ms\n",
            "Speed: 7.4ms preprocess, 223.0ms inference, 1.3ms postprocess per image at shape (1, 3, 384, 640)\n",
            "\n",
            "0: 384x640 4 chickens, 202.3ms\n",
            "Speed: 4.7ms preprocess, 202.3ms inference, 1.7ms postprocess per image at shape (1, 3, 384, 640)\n",
            "\n",
            "0: 384x640 3 chickens, 227.9ms\n",
            "Speed: 4.2ms preprocess, 227.9ms inference, 1.3ms postprocess per image at shape (1, 3, 384, 640)\n",
            "\n",
            "0: 384x640 3 chickens, 217.0ms\n",
            "Speed: 10.2ms preprocess, 217.0ms inference, 1.2ms postprocess per image at shape (1, 3, 384, 640)\n",
            "\n",
            "0: 384x640 3 chickens, 210.2ms\n",
            "Speed: 9.1ms preprocess, 210.2ms inference, 1.3ms postprocess per image at shape (1, 3, 384, 640)\n",
            "\n",
            "0: 384x640 3 chickens, 213.2ms\n",
            "Speed: 4.4ms preprocess, 213.2ms inference, 1.7ms postprocess per image at shape (1, 3, 384, 640)\n",
            "\n",
            "0: 384x640 3 chickens, 224.2ms\n",
            "Speed: 4.3ms preprocess, 224.2ms inference, 1.3ms postprocess per image at shape (1, 3, 384, 640)\n",
            "\n",
            "0: 384x640 3 chickens, 222.9ms\n",
            "Speed: 5.9ms preprocess, 222.9ms inference, 1.7ms postprocess per image at shape (1, 3, 384, 640)\n",
            "\n",
            "0: 384x640 3 chickens, 212.3ms\n",
            "Speed: 4.5ms preprocess, 212.3ms inference, 1.3ms postprocess per image at shape (1, 3, 384, 640)\n",
            "\n",
            "0: 384x640 3 chickens, 224.9ms\n",
            "Speed: 4.3ms preprocess, 224.9ms inference, 1.4ms postprocess per image at shape (1, 3, 384, 640)\n",
            "\n",
            "0: 384x640 3 chickens, 229.8ms\n",
            "Speed: 6.7ms preprocess, 229.8ms inference, 1.4ms postprocess per image at shape (1, 3, 384, 640)\n",
            "\n",
            "0: 384x640 3 chickens, 215.5ms\n",
            "Speed: 4.3ms preprocess, 215.5ms inference, 1.4ms postprocess per image at shape (1, 3, 384, 640)\n",
            "\n",
            "0: 384x640 3 chickens, 216.6ms\n",
            "Speed: 4.2ms preprocess, 216.6ms inference, 1.2ms postprocess per image at shape (1, 3, 384, 640)\n",
            "\n",
            "0: 384x640 3 chickens, 232.5ms\n",
            "Speed: 5.2ms preprocess, 232.5ms inference, 1.4ms postprocess per image at shape (1, 3, 384, 640)\n",
            "\n",
            "0: 384x640 3 chickens, 233.0ms\n",
            "Speed: 4.4ms preprocess, 233.0ms inference, 1.5ms postprocess per image at shape (1, 3, 384, 640)\n",
            "\n",
            "0: 384x640 3 chickens, 231.0ms\n",
            "Speed: 5.4ms preprocess, 231.0ms inference, 1.4ms postprocess per image at shape (1, 3, 384, 640)\n",
            "\n",
            "0: 384x640 3 chickens, 208.8ms\n",
            "Speed: 7.9ms preprocess, 208.8ms inference, 1.0ms postprocess per image at shape (1, 3, 384, 640)\n",
            "\n",
            "0: 384x640 3 chickens, 162.4ms\n",
            "Speed: 4.1ms preprocess, 162.4ms inference, 1.1ms postprocess per image at shape (1, 3, 384, 640)\n",
            "\n",
            "0: 384x640 3 chickens, 141.5ms\n",
            "Speed: 4.2ms preprocess, 141.5ms inference, 1.0ms postprocess per image at shape (1, 3, 384, 640)\n",
            "\n",
            "0: 384x640 3 chickens, 135.2ms\n",
            "Speed: 3.9ms preprocess, 135.2ms inference, 1.0ms postprocess per image at shape (1, 3, 384, 640)\n",
            "\n",
            "0: 384x640 3 chickens, 138.1ms\n",
            "Speed: 4.3ms preprocess, 138.1ms inference, 1.0ms postprocess per image at shape (1, 3, 384, 640)\n",
            "\n",
            "0: 384x640 3 chickens, 139.6ms\n",
            "Speed: 5.9ms preprocess, 139.6ms inference, 1.0ms postprocess per image at shape (1, 3, 384, 640)\n",
            "\n",
            "0: 384x640 3 chickens, 150.4ms\n",
            "Speed: 4.1ms preprocess, 150.4ms inference, 1.5ms postprocess per image at shape (1, 3, 384, 640)\n",
            "\n",
            "0: 384x640 3 chickens, 156.1ms\n",
            "Speed: 5.2ms preprocess, 156.1ms inference, 1.0ms postprocess per image at shape (1, 3, 384, 640)\n",
            "\n",
            "0: 384x640 3 chickens, 140.1ms\n",
            "Speed: 6.1ms preprocess, 140.1ms inference, 1.0ms postprocess per image at shape (1, 3, 384, 640)\n",
            "\n",
            "0: 384x640 3 chickens, 133.1ms\n",
            "Speed: 3.4ms preprocess, 133.1ms inference, 1.0ms postprocess per image at shape (1, 3, 384, 640)\n",
            "\n",
            "0: 384x640 3 chickens, 135.5ms\n",
            "Speed: 5.8ms preprocess, 135.5ms inference, 1.0ms postprocess per image at shape (1, 3, 384, 640)\n",
            "\n",
            "0: 384x640 3 chickens, 152.3ms\n",
            "Speed: 4.4ms preprocess, 152.3ms inference, 1.1ms postprocess per image at shape (1, 3, 384, 640)\n",
            "\n",
            "0: 384x640 3 chickens, 171.8ms\n",
            "Speed: 3.8ms preprocess, 171.8ms inference, 1.5ms postprocess per image at shape (1, 3, 384, 640)\n",
            "\n",
            "0: 384x640 3 chickens, 149.6ms\n",
            "Speed: 3.3ms preprocess, 149.6ms inference, 1.0ms postprocess per image at shape (1, 3, 384, 640)\n",
            "\n",
            "0: 384x640 3 chickens, 132.8ms\n",
            "Speed: 3.1ms preprocess, 132.8ms inference, 1.0ms postprocess per image at shape (1, 3, 384, 640)\n",
            "\n",
            "0: 384x640 3 chickens, 144.3ms\n",
            "Speed: 4.0ms preprocess, 144.3ms inference, 1.0ms postprocess per image at shape (1, 3, 384, 640)\n",
            "\n",
            "0: 384x640 3 chickens, 138.6ms\n",
            "Speed: 3.5ms preprocess, 138.6ms inference, 1.0ms postprocess per image at shape (1, 3, 384, 640)\n",
            "\n",
            "0: 384x640 3 chickens, 174.0ms\n",
            "Speed: 7.6ms preprocess, 174.0ms inference, 1.4ms postprocess per image at shape (1, 3, 384, 640)\n",
            "\n",
            "0: 384x640 3 chickens, 142.5ms\n",
            "Speed: 6.4ms preprocess, 142.5ms inference, 1.0ms postprocess per image at shape (1, 3, 384, 640)\n",
            "\n",
            "0: 384x640 3 chickens, 132.8ms\n",
            "Speed: 5.7ms preprocess, 132.8ms inference, 1.0ms postprocess per image at shape (1, 3, 384, 640)\n",
            "\n",
            "0: 384x640 3 chickens, 138.0ms\n",
            "Speed: 4.6ms preprocess, 138.0ms inference, 1.0ms postprocess per image at shape (1, 3, 384, 640)\n",
            "\n",
            "0: 384x640 3 chickens, 134.2ms\n",
            "Speed: 5.8ms preprocess, 134.2ms inference, 1.0ms postprocess per image at shape (1, 3, 384, 640)\n",
            "\n",
            "0: 384x640 3 chickens, 141.2ms\n",
            "Speed: 10.0ms preprocess, 141.2ms inference, 1.1ms postprocess per image at shape (1, 3, 384, 640)\n",
            "\n",
            "0: 384x640 3 chickens, 169.1ms\n",
            "Speed: 6.1ms preprocess, 169.1ms inference, 1.0ms postprocess per image at shape (1, 3, 384, 640)\n",
            "\n",
            "0: 384x640 3 chickens, 140.9ms\n",
            "Speed: 4.3ms preprocess, 140.9ms inference, 1.0ms postprocess per image at shape (1, 3, 384, 640)\n",
            "\n",
            "0: 384x640 3 chickens, 134.7ms\n",
            "Speed: 5.9ms preprocess, 134.7ms inference, 1.1ms postprocess per image at shape (1, 3, 384, 640)\n",
            "\n",
            "0: 384x640 3 chickens, 145.0ms\n",
            "Speed: 4.2ms preprocess, 145.0ms inference, 1.0ms postprocess per image at shape (1, 3, 384, 640)\n",
            "\n",
            "0: 384x640 3 chickens, 140.8ms\n",
            "Speed: 4.2ms preprocess, 140.8ms inference, 1.0ms postprocess per image at shape (1, 3, 384, 640)\n",
            "\n",
            "0: 384x640 3 chickens, 174.7ms\n",
            "Speed: 5.0ms preprocess, 174.7ms inference, 2.0ms postprocess per image at shape (1, 3, 384, 640)\n",
            "\n",
            "0: 384x640 3 chickens, 141.4ms\n",
            "Speed: 5.5ms preprocess, 141.4ms inference, 1.0ms postprocess per image at shape (1, 3, 384, 640)\n",
            "\n",
            "0: 384x640 3 chickens, 136.2ms\n",
            "Speed: 5.1ms preprocess, 136.2ms inference, 1.0ms postprocess per image at shape (1, 3, 384, 640)\n",
            "\n",
            "0: 384x640 3 chickens, 138.5ms\n",
            "Speed: 7.5ms preprocess, 138.5ms inference, 1.2ms postprocess per image at shape (1, 3, 384, 640)\n",
            "\n",
            "0: 384x640 3 chickens, 139.7ms\n",
            "Speed: 14.7ms preprocess, 139.7ms inference, 1.0ms postprocess per image at shape (1, 3, 384, 640)\n",
            "\n",
            "0: 384x640 3 chickens, 156.3ms\n",
            "Speed: 5.1ms preprocess, 156.3ms inference, 1.0ms postprocess per image at shape (1, 3, 384, 640)\n",
            "\n",
            "0: 384x640 3 chickens, 151.7ms\n",
            "Speed: 5.9ms preprocess, 151.7ms inference, 1.0ms postprocess per image at shape (1, 3, 384, 640)\n",
            "\n",
            "0: 384x640 3 chickens, 136.8ms\n",
            "Speed: 5.5ms preprocess, 136.8ms inference, 1.0ms postprocess per image at shape (1, 3, 384, 640)\n",
            "\n",
            "0: 384x640 3 chickens, 138.2ms\n",
            "Speed: 3.1ms preprocess, 138.2ms inference, 1.0ms postprocess per image at shape (1, 3, 384, 640)\n",
            "\n",
            "0: 384x640 3 chickens, 141.0ms\n",
            "Speed: 6.2ms preprocess, 141.0ms inference, 1.0ms postprocess per image at shape (1, 3, 384, 640)\n",
            "\n",
            "0: 384x640 3 chickens, 150.7ms\n",
            "Speed: 4.3ms preprocess, 150.7ms inference, 1.2ms postprocess per image at shape (1, 3, 384, 640)\n",
            "\n",
            "0: 384x640 3 chickens, 151.9ms\n",
            "Speed: 5.5ms preprocess, 151.9ms inference, 1.4ms postprocess per image at shape (1, 3, 384, 640)\n",
            "\n",
            "0: 384x640 3 chickens, 138.0ms\n",
            "Speed: 4.1ms preprocess, 138.0ms inference, 1.0ms postprocess per image at shape (1, 3, 384, 640)\n",
            "\n",
            "0: 384x640 3 chickens, 134.5ms\n",
            "Speed: 4.4ms preprocess, 134.5ms inference, 1.0ms postprocess per image at shape (1, 3, 384, 640)\n",
            "\n",
            "0: 384x640 3 chickens, 145.1ms\n",
            "Speed: 4.2ms preprocess, 145.1ms inference, 1.0ms postprocess per image at shape (1, 3, 384, 640)\n",
            "\n",
            "0: 384x640 3 chickens, 141.9ms\n",
            "Speed: 7.0ms preprocess, 141.9ms inference, 1.1ms postprocess per image at shape (1, 3, 384, 640)\n",
            "\n",
            "0: 384x640 4 chickens, 170.3ms\n",
            "Speed: 7.7ms preprocess, 170.3ms inference, 1.2ms postprocess per image at shape (1, 3, 384, 640)\n",
            "\n",
            "0: 384x640 4 chickens, 152.4ms\n",
            "Speed: 3.5ms preprocess, 152.4ms inference, 1.0ms postprocess per image at shape (1, 3, 384, 640)\n",
            "\n",
            "0: 384x640 3 chickens, 141.9ms\n",
            "Speed: 4.8ms preprocess, 141.9ms inference, 1.2ms postprocess per image at shape (1, 3, 384, 640)\n",
            "\n",
            "0: 384x640 3 chickens, 142.0ms\n",
            "Speed: 5.2ms preprocess, 142.0ms inference, 1.0ms postprocess per image at shape (1, 3, 384, 640)\n",
            "\n",
            "0: 384x640 4 chickens, 138.5ms\n",
            "Speed: 4.4ms preprocess, 138.5ms inference, 1.0ms postprocess per image at shape (1, 3, 384, 640)\n",
            "\n",
            "0: 384x640 4 chickens, 152.1ms\n",
            "Speed: 4.6ms preprocess, 152.1ms inference, 1.2ms postprocess per image at shape (1, 3, 384, 640)\n",
            "\n",
            "0: 384x640 4 chickens, 162.9ms\n",
            "Speed: 5.9ms preprocess, 162.9ms inference, 1.0ms postprocess per image at shape (1, 3, 384, 640)\n",
            "\n",
            "0: 384x640 4 chickens, 135.6ms\n",
            "Speed: 4.5ms preprocess, 135.6ms inference, 1.0ms postprocess per image at shape (1, 3, 384, 640)\n",
            "\n",
            "0: 384x640 4 chickens, 145.5ms\n",
            "Speed: 5.2ms preprocess, 145.5ms inference, 1.0ms postprocess per image at shape (1, 3, 384, 640)\n",
            "\n",
            "0: 384x640 3 chickens, 159.0ms\n",
            "Speed: 4.6ms preprocess, 159.0ms inference, 1.7ms postprocess per image at shape (1, 3, 384, 640)\n",
            "\n",
            "0: 384x640 4 chickens, 228.7ms\n",
            "Speed: 4.3ms preprocess, 228.7ms inference, 1.4ms postprocess per image at shape (1, 3, 384, 640)\n",
            "\n",
            "0: 384x640 4 chickens, 215.1ms\n",
            "Speed: 4.4ms preprocess, 215.1ms inference, 1.4ms postprocess per image at shape (1, 3, 384, 640)\n",
            "\n",
            "0: 384x640 3 chickens, 210.8ms\n",
            "Speed: 11.6ms preprocess, 210.8ms inference, 1.4ms postprocess per image at shape (1, 3, 384, 640)\n",
            "\n",
            "0: 384x640 4 chickens, 215.2ms\n",
            "Speed: 5.7ms preprocess, 215.2ms inference, 1.4ms postprocess per image at shape (1, 3, 384, 640)\n",
            "\n",
            "0: 384x640 4 chickens, 208.2ms\n",
            "Speed: 4.3ms preprocess, 208.2ms inference, 1.2ms postprocess per image at shape (1, 3, 384, 640)\n",
            "\n",
            "0: 384x640 4 chickens, 214.6ms\n",
            "Speed: 4.2ms preprocess, 214.6ms inference, 1.4ms postprocess per image at shape (1, 3, 384, 640)\n",
            "\n",
            "0: 384x640 4 chickens, 221.1ms\n",
            "Speed: 4.2ms preprocess, 221.1ms inference, 1.3ms postprocess per image at shape (1, 3, 384, 640)\n",
            "\n",
            "0: 384x640 4 chickens, 209.2ms\n",
            "Speed: 4.3ms preprocess, 209.2ms inference, 1.4ms postprocess per image at shape (1, 3, 384, 640)\n",
            "\n",
            "0: 384x640 4 chickens, 228.7ms\n",
            "Speed: 4.5ms preprocess, 228.7ms inference, 1.4ms postprocess per image at shape (1, 3, 384, 640)\n",
            "\n",
            "0: 384x640 4 chickens, 214.2ms\n",
            "Speed: 4.4ms preprocess, 214.2ms inference, 1.7ms postprocess per image at shape (1, 3, 384, 640)\n",
            "\n",
            "0: 384x640 4 chickens, 218.0ms\n",
            "Speed: 4.3ms preprocess, 218.0ms inference, 1.5ms postprocess per image at shape (1, 3, 384, 640)\n",
            "\n",
            "0: 384x640 4 chickens, 223.7ms\n",
            "Speed: 4.3ms preprocess, 223.7ms inference, 1.4ms postprocess per image at shape (1, 3, 384, 640)\n",
            "\n",
            "0: 384x640 4 chickens, 232.8ms\n",
            "Speed: 4.2ms preprocess, 232.8ms inference, 1.4ms postprocess per image at shape (1, 3, 384, 640)\n",
            "\n",
            "0: 384x640 4 chickens, 228.5ms\n",
            "Speed: 8.2ms preprocess, 228.5ms inference, 1.7ms postprocess per image at shape (1, 3, 384, 640)\n",
            "\n",
            "0: 384x640 4 chickens, 231.2ms\n",
            "Speed: 4.5ms preprocess, 231.2ms inference, 1.3ms postprocess per image at shape (1, 3, 384, 640)\n",
            "\n",
            "0: 384x640 4 chickens, 231.5ms\n",
            "Speed: 4.2ms preprocess, 231.5ms inference, 1.3ms postprocess per image at shape (1, 3, 384, 640)\n",
            "\n",
            "0: 384x640 4 chickens, 232.9ms\n",
            "Speed: 10.3ms preprocess, 232.9ms inference, 5.1ms postprocess per image at shape (1, 3, 384, 640)\n",
            "\n",
            "0: 384x640 4 chickens, 225.5ms\n",
            "Speed: 5.4ms preprocess, 225.5ms inference, 1.4ms postprocess per image at shape (1, 3, 384, 640)\n",
            "\n",
            "0: 384x640 4 chickens, 173.7ms\n",
            "Speed: 4.3ms preprocess, 173.7ms inference, 1.4ms postprocess per image at shape (1, 3, 384, 640)\n",
            "\n",
            "0: 384x640 4 chickens, 144.3ms\n",
            "Speed: 4.6ms preprocess, 144.3ms inference, 1.0ms postprocess per image at shape (1, 3, 384, 640)\n",
            "\n",
            "0: 384x640 4 chickens, 152.7ms\n",
            "Speed: 4.5ms preprocess, 152.7ms inference, 1.1ms postprocess per image at shape (1, 3, 384, 640)\n",
            "\n",
            "0: 384x640 4 chickens, 135.0ms\n",
            "Speed: 4.5ms preprocess, 135.0ms inference, 1.0ms postprocess per image at shape (1, 3, 384, 640)\n",
            "\n",
            "0: 384x640 4 chickens, 159.2ms\n",
            "Speed: 6.6ms preprocess, 159.2ms inference, 1.0ms postprocess per image at shape (1, 3, 384, 640)\n",
            "\n",
            "0: 384x640 4 chickens, 139.2ms\n",
            "Speed: 5.4ms preprocess, 139.2ms inference, 1.0ms postprocess per image at shape (1, 3, 384, 640)\n",
            "\n",
            "0: 384x640 4 chickens, 137.4ms\n",
            "Speed: 4.0ms preprocess, 137.4ms inference, 1.0ms postprocess per image at shape (1, 3, 384, 640)\n",
            "\n",
            "0: 384x640 4 chickens, 152.4ms\n",
            "Speed: 5.2ms preprocess, 152.4ms inference, 1.0ms postprocess per image at shape (1, 3, 384, 640)\n",
            "\n",
            "0: 384x640 4 chickens, 148.4ms\n",
            "Speed: 5.4ms preprocess, 148.4ms inference, 1.0ms postprocess per image at shape (1, 3, 384, 640)\n",
            "\n",
            "0: 384x640 4 chickens, 154.8ms\n",
            "Speed: 5.6ms preprocess, 154.8ms inference, 1.0ms postprocess per image at shape (1, 3, 384, 640)\n",
            "\n",
            "0: 384x640 4 chickens, 138.4ms\n",
            "Speed: 5.8ms preprocess, 138.4ms inference, 1.0ms postprocess per image at shape (1, 3, 384, 640)\n",
            "\n",
            "0: 384x640 4 chickens, 137.0ms\n",
            "Speed: 4.1ms preprocess, 137.0ms inference, 1.0ms postprocess per image at shape (1, 3, 384, 640)\n",
            "\n",
            "0: 384x640 4 chickens, 142.4ms\n",
            "Speed: 4.2ms preprocess, 142.4ms inference, 1.0ms postprocess per image at shape (1, 3, 384, 640)\n",
            "\n",
            "0: 384x640 4 chickens, 156.4ms\n",
            "Speed: 5.1ms preprocess, 156.4ms inference, 1.0ms postprocess per image at shape (1, 3, 384, 640)\n",
            "\n",
            "0: 384x640 4 chickens, 143.4ms\n",
            "Speed: 5.1ms preprocess, 143.4ms inference, 1.4ms postprocess per image at shape (1, 3, 384, 640)\n",
            "\n",
            "0: 384x640 4 chickens, 155.9ms\n",
            "Speed: 4.4ms preprocess, 155.9ms inference, 1.1ms postprocess per image at shape (1, 3, 384, 640)\n",
            "\n",
            "0: 384x640 4 chickens, 143.6ms\n",
            "Speed: 4.5ms preprocess, 143.6ms inference, 1.5ms postprocess per image at shape (1, 3, 384, 640)\n",
            "\n",
            "0: 384x640 4 chickens, 134.0ms\n",
            "Speed: 8.7ms preprocess, 134.0ms inference, 1.0ms postprocess per image at shape (1, 3, 384, 640)\n",
            "\n",
            "0: 384x640 4 chickens, 167.9ms\n",
            "Speed: 4.3ms preprocess, 167.9ms inference, 1.0ms postprocess per image at shape (1, 3, 384, 640)\n",
            "\n",
            "0: 384x640 4 chickens, 135.4ms\n",
            "Speed: 5.2ms preprocess, 135.4ms inference, 1.0ms postprocess per image at shape (1, 3, 384, 640)\n",
            "\n",
            "0: 384x640 3 chickens, 157.7ms\n",
            "Speed: 7.9ms preprocess, 157.7ms inference, 1.0ms postprocess per image at shape (1, 3, 384, 640)\n",
            "\n",
            "0: 384x640 3 chickens, 133.6ms\n",
            "Speed: 4.5ms preprocess, 133.6ms inference, 1.0ms postprocess per image at shape (1, 3, 384, 640)\n",
            "\n",
            "0: 384x640 4 chickens, 138.7ms\n",
            "Speed: 6.9ms preprocess, 138.7ms inference, 1.0ms postprocess per image at shape (1, 3, 384, 640)\n",
            "\n",
            "0: 384x640 4 chickens, 134.2ms\n",
            "Speed: 5.5ms preprocess, 134.2ms inference, 1.0ms postprocess per image at shape (1, 3, 384, 640)\n",
            "\n",
            "0: 384x640 3 chickens, 158.9ms\n",
            "Speed: 4.8ms preprocess, 158.9ms inference, 1.2ms postprocess per image at shape (1, 3, 384, 640)\n",
            "\n",
            "0: 384x640 3 chickens, 177.6ms\n",
            "Speed: 4.6ms preprocess, 177.6ms inference, 1.2ms postprocess per image at shape (1, 3, 384, 640)\n",
            "\n",
            "0: 384x640 3 chickens, 139.8ms\n",
            "Speed: 5.8ms preprocess, 139.8ms inference, 1.0ms postprocess per image at shape (1, 3, 384, 640)\n",
            "\n",
            "0: 384x640 3 chickens, 138.1ms\n",
            "Speed: 3.2ms preprocess, 138.1ms inference, 1.0ms postprocess per image at shape (1, 3, 384, 640)\n",
            "\n",
            "0: 384x640 3 chickens, 137.1ms\n",
            "Speed: 4.2ms preprocess, 137.1ms inference, 1.0ms postprocess per image at shape (1, 3, 384, 640)\n",
            "\n",
            "0: 384x640 3 chickens, 149.4ms\n",
            "Speed: 3.4ms preprocess, 149.4ms inference, 1.0ms postprocess per image at shape (1, 3, 384, 640)\n",
            "\n",
            "0: 384x640 3 chickens, 149.4ms\n",
            "Speed: 4.2ms preprocess, 149.4ms inference, 1.0ms postprocess per image at shape (1, 3, 384, 640)\n",
            "\n",
            "0: 384x640 3 chickens, 156.2ms\n",
            "Speed: 4.8ms preprocess, 156.2ms inference, 1.0ms postprocess per image at shape (1, 3, 384, 640)\n",
            "\n",
            "0: 384x640 3 chickens, 146.1ms\n",
            "Speed: 4.3ms preprocess, 146.1ms inference, 1.0ms postprocess per image at shape (1, 3, 384, 640)\n",
            "\n",
            "0: 384x640 3 chickens, 132.4ms\n",
            "Speed: 4.5ms preprocess, 132.4ms inference, 1.0ms postprocess per image at shape (1, 3, 384, 640)\n",
            "\n",
            "0: 384x640 3 chickens, 144.6ms\n",
            "Speed: 5.4ms preprocess, 144.6ms inference, 1.0ms postprocess per image at shape (1, 3, 384, 640)\n",
            "\n",
            "0: 384x640 3 chickens, 145.3ms\n",
            "Speed: 4.4ms preprocess, 145.3ms inference, 1.1ms postprocess per image at shape (1, 3, 384, 640)\n",
            "\n",
            "0: 384x640 3 chickens, 141.2ms\n",
            "Speed: 6.0ms preprocess, 141.2ms inference, 1.0ms postprocess per image at shape (1, 3, 384, 640)\n",
            "\n",
            "0: 384x640 3 chickens, 132.3ms\n",
            "Speed: 4.9ms preprocess, 132.3ms inference, 1.0ms postprocess per image at shape (1, 3, 384, 640)\n",
            "\n",
            "0: 384x640 3 chickens, 145.8ms\n",
            "Speed: 4.6ms preprocess, 145.8ms inference, 1.0ms postprocess per image at shape (1, 3, 384, 640)\n",
            "\n",
            "0: 384x640 3 chickens, 136.5ms\n",
            "Speed: 4.6ms preprocess, 136.5ms inference, 1.0ms postprocess per image at shape (1, 3, 384, 640)\n",
            "\n",
            "0: 384x640 3 chickens, 153.0ms\n",
            "Speed: 8.9ms preprocess, 153.0ms inference, 1.0ms postprocess per image at shape (1, 3, 384, 640)\n",
            "\n",
            "0: 384x640 3 chickens, 156.2ms\n",
            "Speed: 9.4ms preprocess, 156.2ms inference, 1.1ms postprocess per image at shape (1, 3, 384, 640)\n",
            "\n",
            "0: 384x640 3 chickens, 137.8ms\n",
            "Speed: 4.2ms preprocess, 137.8ms inference, 1.0ms postprocess per image at shape (1, 3, 384, 640)\n",
            "\n",
            "0: 384x640 3 chickens, 137.6ms\n",
            "Speed: 4.0ms preprocess, 137.6ms inference, 1.3ms postprocess per image at shape (1, 3, 384, 640)\n",
            "\n",
            "0: 384x640 3 chickens, 136.2ms\n",
            "Speed: 4.5ms preprocess, 136.2ms inference, 1.0ms postprocess per image at shape (1, 3, 384, 640)\n",
            "\n",
            "0: 384x640 3 chickens, 141.2ms\n",
            "Speed: 3.8ms preprocess, 141.2ms inference, 1.0ms postprocess per image at shape (1, 3, 384, 640)\n",
            "\n",
            "0: 384x640 3 chickens, 155.2ms\n",
            "Speed: 4.2ms preprocess, 155.2ms inference, 1.0ms postprocess per image at shape (1, 3, 384, 640)\n",
            "\n",
            "0: 384x640 3 chickens, 139.6ms\n",
            "Speed: 4.4ms preprocess, 139.6ms inference, 1.1ms postprocess per image at shape (1, 3, 384, 640)\n",
            "\n",
            "0: 384x640 3 chickens, 136.4ms\n",
            "Speed: 3.3ms preprocess, 136.4ms inference, 1.4ms postprocess per image at shape (1, 3, 384, 640)\n",
            "\n",
            "0: 384x640 3 chickens, 134.3ms\n",
            "Speed: 3.4ms preprocess, 134.3ms inference, 1.1ms postprocess per image at shape (1, 3, 384, 640)\n",
            "\n",
            "0: 384x640 3 chickens, 147.9ms\n",
            "Speed: 4.7ms preprocess, 147.9ms inference, 1.0ms postprocess per image at shape (1, 3, 384, 640)\n",
            "\n",
            "0: 384x640 3 chickens, 155.2ms\n",
            "Speed: 5.1ms preprocess, 155.2ms inference, 1.4ms postprocess per image at shape (1, 3, 384, 640)\n",
            "\n",
            "0: 384x640 3 chickens, 147.8ms\n",
            "Speed: 4.7ms preprocess, 147.8ms inference, 1.0ms postprocess per image at shape (1, 3, 384, 640)\n",
            "\n",
            "0: 384x640 3 chickens, 221.1ms\n",
            "Speed: 4.3ms preprocess, 221.1ms inference, 1.5ms postprocess per image at shape (1, 3, 384, 640)\n",
            "\n",
            "0: 384x640 3 chickens, 206.7ms\n",
            "Speed: 4.1ms preprocess, 206.7ms inference, 1.2ms postprocess per image at shape (1, 3, 384, 640)\n",
            "\n",
            "0: 384x640 3 chickens, 219.4ms\n",
            "Speed: 5.6ms preprocess, 219.4ms inference, 1.3ms postprocess per image at shape (1, 3, 384, 640)\n",
            "\n",
            "0: 384x640 3 chickens, 219.4ms\n",
            "Speed: 14.2ms preprocess, 219.4ms inference, 1.2ms postprocess per image at shape (1, 3, 384, 640)\n",
            "\n",
            "0: 384x640 3 chickens, 210.9ms\n",
            "Speed: 4.4ms preprocess, 210.9ms inference, 1.2ms postprocess per image at shape (1, 3, 384, 640)\n",
            "\n",
            "0: 384x640 3 chickens, 213.5ms\n",
            "Speed: 4.1ms preprocess, 213.5ms inference, 1.2ms postprocess per image at shape (1, 3, 384, 640)\n",
            "\n",
            "0: 384x640 3 chickens, 254.7ms\n",
            "Speed: 8.2ms preprocess, 254.7ms inference, 1.3ms postprocess per image at shape (1, 3, 384, 640)\n",
            "\n",
            "0: 384x640 3 chickens, 206.3ms\n",
            "Speed: 4.1ms preprocess, 206.3ms inference, 1.3ms postprocess per image at shape (1, 3, 384, 640)\n",
            "\n",
            "0: 384x640 3 chickens, 203.4ms\n",
            "Speed: 4.1ms preprocess, 203.4ms inference, 1.2ms postprocess per image at shape (1, 3, 384, 640)\n",
            "\n",
            "0: 384x640 3 chickens, 209.7ms\n",
            "Speed: 9.4ms preprocess, 209.7ms inference, 1.2ms postprocess per image at shape (1, 3, 384, 640)\n",
            "\n",
            "0: 384x640 3 chickens, 231.8ms\n",
            "Speed: 4.1ms preprocess, 231.8ms inference, 1.4ms postprocess per image at shape (1, 3, 384, 640)\n",
            "\n",
            "0: 384x640 3 chickens, 217.5ms\n",
            "Speed: 4.0ms preprocess, 217.5ms inference, 1.4ms postprocess per image at shape (1, 3, 384, 640)\n",
            "\n",
            "0: 384x640 3 chickens, 232.2ms\n",
            "Speed: 4.3ms preprocess, 232.2ms inference, 1.3ms postprocess per image at shape (1, 3, 384, 640)\n",
            "\n",
            "0: 384x640 3 chickens, 234.4ms\n",
            "Speed: 4.3ms preprocess, 234.4ms inference, 1.2ms postprocess per image at shape (1, 3, 384, 640)\n",
            "\n",
            "0: 384x640 3 chickens, 229.9ms\n",
            "Speed: 4.3ms preprocess, 229.9ms inference, 1.4ms postprocess per image at shape (1, 3, 384, 640)\n",
            "\n",
            "0: 384x640 3 chickens, 223.2ms\n",
            "Speed: 4.1ms preprocess, 223.2ms inference, 1.5ms postprocess per image at shape (1, 3, 384, 640)\n",
            "\n",
            "0: 384x640 3 chickens, 237.6ms\n",
            "Speed: 4.2ms preprocess, 237.6ms inference, 2.8ms postprocess per image at shape (1, 3, 384, 640)\n",
            "\n",
            "0: 384x640 3 chickens, 243.0ms\n",
            "Speed: 4.1ms preprocess, 243.0ms inference, 1.5ms postprocess per image at shape (1, 3, 384, 640)\n",
            "\n",
            "0: 384x640 3 chickens, 200.6ms\n",
            "Speed: 4.5ms preprocess, 200.6ms inference, 1.0ms postprocess per image at shape (1, 3, 384, 640)\n",
            "\n",
            "0: 384x640 3 chickens, 146.0ms\n",
            "Speed: 4.6ms preprocess, 146.0ms inference, 1.0ms postprocess per image at shape (1, 3, 384, 640)\n",
            "\n",
            "0: 384x640 3 chickens, 137.8ms\n",
            "Speed: 4.1ms preprocess, 137.8ms inference, 1.0ms postprocess per image at shape (1, 3, 384, 640)\n",
            "\n",
            "0: 384x640 3 chickens, 155.3ms\n",
            "Speed: 4.5ms preprocess, 155.3ms inference, 1.0ms postprocess per image at shape (1, 3, 384, 640)\n",
            "\n",
            "0: 384x640 3 chickens, 151.2ms\n",
            "Speed: 4.5ms preprocess, 151.2ms inference, 1.5ms postprocess per image at shape (1, 3, 384, 640)\n",
            "\n",
            "0: 384x640 3 chickens, 141.6ms\n",
            "Speed: 4.7ms preprocess, 141.6ms inference, 1.5ms postprocess per image at shape (1, 3, 384, 640)\n",
            "\n",
            "0: 384x640 3 chickens, 144.6ms\n",
            "Speed: 4.5ms preprocess, 144.6ms inference, 1.2ms postprocess per image at shape (1, 3, 384, 640)\n",
            "\n",
            "0: 384x640 3 chickens, 142.9ms\n",
            "Speed: 4.4ms preprocess, 142.9ms inference, 1.0ms postprocess per image at shape (1, 3, 384, 640)\n",
            "\n",
            "0: 384x640 3 chickens, 157.6ms\n",
            "Speed: 5.9ms preprocess, 157.6ms inference, 1.0ms postprocess per image at shape (1, 3, 384, 640)\n",
            "\n",
            "0: 384x640 3 chickens, 143.0ms\n",
            "Speed: 5.6ms preprocess, 143.0ms inference, 1.0ms postprocess per image at shape (1, 3, 384, 640)\n",
            "\n",
            "0: 384x640 3 chickens, 154.1ms\n",
            "Speed: 4.7ms preprocess, 154.1ms inference, 1.0ms postprocess per image at shape (1, 3, 384, 640)\n",
            "\n",
            "0: 384x640 3 chickens, 139.5ms\n",
            "Speed: 4.0ms preprocess, 139.5ms inference, 1.4ms postprocess per image at shape (1, 3, 384, 640)\n",
            "\n",
            "0: 384x640 3 chickens, 139.2ms\n",
            "Speed: 4.2ms preprocess, 139.2ms inference, 1.0ms postprocess per image at shape (1, 3, 384, 640)\n",
            "\n",
            "0: 384x640 3 chickens, 144.8ms\n",
            "Speed: 5.1ms preprocess, 144.8ms inference, 1.3ms postprocess per image at shape (1, 3, 384, 640)\n",
            "\n",
            "0: 384x640 3 chickens, 151.3ms\n",
            "Speed: 4.3ms preprocess, 151.3ms inference, 1.0ms postprocess per image at shape (1, 3, 384, 640)\n",
            "\n",
            "0: 384x640 3 chickens, 151.9ms\n",
            "Speed: 4.4ms preprocess, 151.9ms inference, 1.5ms postprocess per image at shape (1, 3, 384, 640)\n",
            "\n",
            "0: 384x640 3 chickens, 135.8ms\n",
            "Speed: 5.0ms preprocess, 135.8ms inference, 1.0ms postprocess per image at shape (1, 3, 384, 640)\n",
            "\n",
            "0: 384x640 3 chickens, 141.2ms\n",
            "Speed: 4.5ms preprocess, 141.2ms inference, 1.4ms postprocess per image at shape (1, 3, 384, 640)\n",
            "\n",
            "0: 384x640 3 chickens, 142.9ms\n",
            "Speed: 6.6ms preprocess, 142.9ms inference, 1.1ms postprocess per image at shape (1, 3, 384, 640)\n",
            "\n",
            "0: 384x640 3 chickens, 152.3ms\n",
            "Speed: 4.0ms preprocess, 152.3ms inference, 1.0ms postprocess per image at shape (1, 3, 384, 640)\n",
            "\n",
            "0: 384x640 3 chickens, 150.9ms\n",
            "Speed: 7.0ms preprocess, 150.9ms inference, 1.0ms postprocess per image at shape (1, 3, 384, 640)\n",
            "\n",
            "0: 384x640 3 chickens, 148.9ms\n",
            "Speed: 3.3ms preprocess, 148.9ms inference, 1.0ms postprocess per image at shape (1, 3, 384, 640)\n",
            "\n",
            "0: 384x640 3 chickens, 139.6ms\n",
            "Speed: 6.6ms preprocess, 139.6ms inference, 1.1ms postprocess per image at shape (1, 3, 384, 640)\n",
            "\n",
            "0: 384x640 3 chickens, 133.0ms\n",
            "Speed: 5.4ms preprocess, 133.0ms inference, 1.0ms postprocess per image at shape (1, 3, 384, 640)\n",
            "\n",
            "0: 384x640 3 chickens, 157.9ms\n",
            "Speed: 4.9ms preprocess, 157.9ms inference, 1.4ms postprocess per image at shape (1, 3, 384, 640)\n",
            "\n",
            "0: 384x640 3 chickens, 140.9ms\n",
            "Speed: 4.8ms preprocess, 140.9ms inference, 1.0ms postprocess per image at shape (1, 3, 384, 640)\n",
            "\n",
            "0: 384x640 3 chickens, 143.2ms\n",
            "Speed: 4.0ms preprocess, 143.2ms inference, 1.4ms postprocess per image at shape (1, 3, 384, 640)\n",
            "\n",
            "0: 384x640 3 chickens, 145.7ms\n",
            "Speed: 4.1ms preprocess, 145.7ms inference, 1.1ms postprocess per image at shape (1, 3, 384, 640)\n",
            "\n",
            "0: 384x640 3 chickens, 140.4ms\n",
            "Speed: 4.9ms preprocess, 140.4ms inference, 1.0ms postprocess per image at shape (1, 3, 384, 640)\n",
            "\n",
            "0: 384x640 3 chickens, 157.1ms\n",
            "Speed: 5.0ms preprocess, 157.1ms inference, 1.7ms postprocess per image at shape (1, 3, 384, 640)\n",
            "\n",
            "0: 384x640 3 chickens, 152.5ms\n",
            "Speed: 4.9ms preprocess, 152.5ms inference, 1.3ms postprocess per image at shape (1, 3, 384, 640)\n",
            "\n",
            "0: 384x640 3 chickens, 140.1ms\n",
            "Speed: 4.4ms preprocess, 140.1ms inference, 1.4ms postprocess per image at shape (1, 3, 384, 640)\n",
            "\n",
            "0: 384x640 3 chickens, 155.7ms\n",
            "Speed: 3.6ms preprocess, 155.7ms inference, 1.1ms postprocess per image at shape (1, 3, 384, 640)\n",
            "\n",
            "0: 384x640 3 chickens, 142.2ms\n",
            "Speed: 4.3ms preprocess, 142.2ms inference, 1.0ms postprocess per image at shape (1, 3, 384, 640)\n",
            "\n",
            "0: 384x640 3 chickens, 138.3ms\n",
            "Speed: 3.7ms preprocess, 138.3ms inference, 1.0ms postprocess per image at shape (1, 3, 384, 640)\n",
            "\n",
            "0: 384x640 3 chickens, 154.6ms\n",
            "Speed: 7.4ms preprocess, 154.6ms inference, 1.5ms postprocess per image at shape (1, 3, 384, 640)\n",
            "\n",
            "0: 384x640 3 chickens, 136.5ms\n",
            "Speed: 4.6ms preprocess, 136.5ms inference, 1.0ms postprocess per image at shape (1, 3, 384, 640)\n",
            "\n",
            "0: 384x640 3 chickens, 149.3ms\n",
            "Speed: 4.3ms preprocess, 149.3ms inference, 1.0ms postprocess per image at shape (1, 3, 384, 640)\n",
            "\n",
            "0: 384x640 3 chickens, 152.5ms\n",
            "Speed: 4.9ms preprocess, 152.5ms inference, 1.0ms postprocess per image at shape (1, 3, 384, 640)\n",
            "\n",
            "0: 384x640 3 chickens, 135.7ms\n",
            "Speed: 4.7ms preprocess, 135.7ms inference, 1.0ms postprocess per image at shape (1, 3, 384, 640)\n",
            "\n",
            "0: 384x640 3 chickens, 155.9ms\n",
            "Speed: 4.5ms preprocess, 155.9ms inference, 1.0ms postprocess per image at shape (1, 3, 384, 640)\n",
            "\n",
            "0: 384x640 3 chickens, 138.3ms\n",
            "Speed: 4.8ms preprocess, 138.3ms inference, 1.0ms postprocess per image at shape (1, 3, 384, 640)\n",
            "\n",
            "0: 384x640 3 chickens, 152.2ms\n",
            "Speed: 4.1ms preprocess, 152.2ms inference, 1.6ms postprocess per image at shape (1, 3, 384, 640)\n",
            "\n",
            "0: 384x640 3 chickens, 142.5ms\n",
            "Speed: 4.1ms preprocess, 142.5ms inference, 1.0ms postprocess per image at shape (1, 3, 384, 640)\n",
            "\n",
            "0: 384x640 3 chickens, 139.5ms\n",
            "Speed: 4.3ms preprocess, 139.5ms inference, 1.0ms postprocess per image at shape (1, 3, 384, 640)\n",
            "\n",
            "0: 384x640 3 chickens, 151.2ms\n",
            "Speed: 7.0ms preprocess, 151.2ms inference, 1.1ms postprocess per image at shape (1, 3, 384, 640)\n",
            "\n",
            "0: 384x640 3 chickens, 141.5ms\n",
            "Speed: 6.5ms preprocess, 141.5ms inference, 1.0ms postprocess per image at shape (1, 3, 384, 640)\n",
            "\n",
            "0: 384x640 3 chickens, 138.8ms\n",
            "Speed: 5.6ms preprocess, 138.8ms inference, 1.1ms postprocess per image at shape (1, 3, 384, 640)\n",
            "\n",
            "0: 384x640 2 chickens, 153.0ms\n",
            "Speed: 6.5ms preprocess, 153.0ms inference, 1.3ms postprocess per image at shape (1, 3, 384, 640)\n",
            "\n",
            "0: 384x640 (no detections), 141.4ms\n",
            "Speed: 4.7ms preprocess, 141.4ms inference, 0.6ms postprocess per image at shape (1, 3, 384, 640)\n",
            "\n",
            "0: 384x640 (no detections), 155.2ms\n",
            "Speed: 4.2ms preprocess, 155.2ms inference, 0.6ms postprocess per image at shape (1, 3, 384, 640)\n",
            "\n",
            "0: 384x640 (no detections), 136.8ms\n",
            "Speed: 5.9ms preprocess, 136.8ms inference, 0.6ms postprocess per image at shape (1, 3, 384, 640)\n"
          ]
        }
      ]
    }
  ]
}